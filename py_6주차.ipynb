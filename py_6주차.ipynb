{
  "nbformat": 4,
  "nbformat_minor": 0,
  "metadata": {
    "colab": {
      "provenance": [],
      "authorship_tag": "ABX9TyPl/iiHIVBuXMtA8316nZX2",
      "include_colab_link": true
    },
    "kernelspec": {
      "name": "python3",
      "display_name": "Python 3"
    },
    "language_info": {
      "name": "python"
    }
  },
  "cells": [
    {
      "cell_type": "markdown",
      "metadata": {
        "id": "view-in-github",
        "colab_type": "text"
      },
      "source": [
        "<a href=\"https://colab.research.google.com/github/hwawoll/pychon/blob/main/py_6%EC%A3%BC%EC%B0%A8.ipynb\" target=\"_parent\"><img src=\"https://colab.research.google.com/assets/colab-badge.svg\" alt=\"Open In Colab\"/></a>"
      ]
    },
    {
      "cell_type": "markdown",
      "source": [
        "# CH6. func"
      ],
      "metadata": {
        "id": "qpPyUYz6Y-ya"
      }
    },
    {
      "cell_type": "code",
      "execution_count": 3,
      "metadata": {
        "colab": {
          "base_uri": "https://localhost:8080/"
        },
        "id": "r4j99MX-WSnn",
        "outputId": "1776e01d-3416-41cd-b2f7-0da568eb4a79"
      },
      "outputs": [
        {
          "output_type": "stream",
          "name": "stdout",
          "text": [
            "안녕하세요~\n",
            "파이썬 함수 연습입니다.\n",
            "Help on function Hello in module __main__:\n",
            "\n",
            "Hello()\n",
            "    헬로 함수 설명을 적을수 있음\n",
            "\n"
          ]
        }
      ],
      "source": [
        "def Hello():  \n",
        "    \"헬로 함수 설명을 적을수 있음\"  \n",
        "    print(\"안녕하세요~\")  \n",
        "    print(\"파이썬 함수 연습입니다.\")  \n",
        "  \n",
        "Hello()  \n",
        "help(Hello)"
      ]
    },
    {
      "cell_type": "markdown",
      "source": [
        "### funcAdd"
      ],
      "metadata": {
        "id": "DqYuC97zZRaY"
      }
    },
    {
      "cell_type": "code",
      "source": [
        "def add(a,b):  \n",
        "    \"두개의 변수를 받아 더하는 함수\"  \n",
        "    global c  \n",
        "    c = a+b  \n",
        "    print(c) #pass  \n",
        "  \n",
        "def addr(a,b):  \n",
        "    return a+b  \n",
        "  \n",
        "add(10,20)  \n",
        "print(c)  \n",
        "print(\"-------------------\")  \n",
        "y = addr(10,20)  \n",
        "print(y)"
      ],
      "metadata": {
        "colab": {
          "base_uri": "https://localhost:8080/"
        },
        "id": "GUtV0KpmZViK",
        "outputId": "a23b8627-bf4b-491a-b91f-dc5c6647c680"
      },
      "execution_count": 4,
      "outputs": [
        {
          "output_type": "stream",
          "name": "stdout",
          "text": [
            "30\n",
            "30\n",
            "-------------------\n",
            "30\n"
          ]
        }
      ]
    },
    {
      "cell_type": "markdown",
      "source": [
        "### funcLocal"
      ],
      "metadata": {
        "id": "cEWwKVnXZcNV"
      }
    },
    {
      "cell_type": "code",
      "source": [
        "a = 20 #전역변수  \n",
        "def func():  \n",
        "    a = 10 #지역변수  \n",
        "    print(a)  \n",
        "  \n",
        "func()  \n",
        "print(a)"
      ],
      "metadata": {
        "colab": {
          "base_uri": "https://localhost:8080/"
        },
        "id": "y9_huQJyZf7B",
        "outputId": "d52b1ff2-775f-4cef-faec-54a23f7cfbb5"
      },
      "execution_count": 5,
      "outputs": [
        {
          "output_type": "stream",
          "name": "stdout",
          "text": [
            "10\n",
            "20\n"
          ]
        }
      ]
    },
    {
      "cell_type": "markdown",
      "source": [
        "### funcLocalErr"
      ],
      "metadata": {
        "id": "UXs7zpEXZm8U"
      }
    },
    {
      "cell_type": "code",
      "source": [
        "def func():  \n",
        "    b = 10 #지역변수  \n",
        "    print(b)  \n",
        "  \n",
        "func()  \n",
        "print(func())"
      ],
      "metadata": {
        "colab": {
          "base_uri": "https://localhost:8080/"
        },
        "id": "TcdOFQYlZq-A",
        "outputId": "c78b7798-c328-40f8-8c5e-ef1b2bc43d25"
      },
      "execution_count": 6,
      "outputs": [
        {
          "output_type": "stream",
          "name": "stdout",
          "text": [
            "10\n",
            "10\n",
            "None\n"
          ]
        }
      ]
    },
    {
      "cell_type": "markdown",
      "source": [
        "### funcLocalRef"
      ],
      "metadata": {
        "id": "QRMwEVSfZuDV"
      }
    },
    {
      "cell_type": "code",
      "source": [
        "a = 10  \n",
        "def func():  \n",
        "    b = 20  \n",
        "    return a + b  \n",
        "x = func()  \n",
        "print(x)"
      ],
      "metadata": {
        "colab": {
          "base_uri": "https://localhost:8080/"
        },
        "id": "AocE4amMZyZd",
        "outputId": "6e37d078-40f0-4978-8f8b-b18b13bc51bf"
      },
      "execution_count": 7,
      "outputs": [
        {
          "output_type": "stream",
          "name": "stdout",
          "text": [
            "30\n"
          ]
        }
      ]
    },
    {
      "cell_type": "markdown",
      "source": [
        "### funcLocalDefault"
      ],
      "metadata": {
        "id": "lg_aof71Z1M5"
      }
    },
    {
      "cell_type": "code",
      "source": [
        "def func(a,b=10): #매계 변수가 앞에 올 수 없다  \n",
        "    print(a+b)  \n",
        "  \n",
        "func(10,30)\n",
        "print(10,30)"
      ],
      "metadata": {
        "colab": {
          "base_uri": "https://localhost:8080/"
        },
        "id": "MA8tQOZXZ8RV",
        "outputId": "b64dfb09-c32b-4190-e6ea-5db8130c71f9"
      },
      "execution_count": 8,
      "outputs": [
        {
          "output_type": "stream",
          "name": "stdout",
          "text": [
            "40\n",
            "10 30\n"
          ]
        }
      ]
    },
    {
      "cell_type": "markdown",
      "source": [
        "### kWidget"
      ],
      "metadata": {
        "id": "VaWHy93-Z_pn"
      }
    },
    {
      "cell_type": "code",
      "source": [
        "from tkinter import *  \n",
        "  \n",
        "window = Tk()  \n",
        "#  \n",
        "window.title(\"윈도우 창 연습\")  \n",
        "window.geometry(\"400x400\") # x는 소문자로  \n",
        "window.resizable(height=FALSE)  \n",
        "  \n",
        "window.mainloop()"
      ],
      "metadata": {
        "id": "rEO6e3azaHbn"
      },
      "execution_count": null,
      "outputs": []
    },
    {
      "cell_type": "markdown",
      "source": [
        "### tkLabel"
      ],
      "metadata": {
        "id": "3AL_vpVzaTrM"
      }
    },
    {
      "cell_type": "code",
      "source": [
        "from tkinter import *  \n",
        "  \n",
        "window = Tk()  \n",
        "window.title(\"레이블\")\n",
        "label1 = Label(window, txt=\"안녕하세요! 이상호 입니다.\")  \n",
        "label2 = Label(window, txt=\"I love Python<br>Korea\", font=(\"궁서체\",30),fg=\"red\")  \n",
        "label3 = Label(window, txt=\"Love is\", bg=\"yello\",width=20,hight=5,anchor=E)  \n",
        "  \n",
        "label1.pack()  \n",
        "label2.pack()  \n",
        "label3.pack()\n",
        "  \n",
        "window.mainloop()"
      ],
      "metadata": {
        "id": "1xnFzpqIaZxr"
      },
      "execution_count": null,
      "outputs": []
    },
    {
      "cell_type": "markdown",
      "source": [
        "### tkimage"
      ],
      "metadata": {
        "id": "JChomJ02aaJX"
      }
    },
    {
      "cell_type": "code",
      "source": [
        "from tkinter import *  \n",
        "window = Tk()  \n",
        "  \n",
        "window.title(\"짱구 사진\")  \n",
        "photo = PhotoImage(file = \"D:\\\\bpy\\\\Zzanggu.png\" )  \n",
        "photo2 = PhotoImage(file = \"D:\\\\bpy\\\\Zzanggoo.png\" )  \n",
        "label1 = Label(window, image = photo)  \n",
        "label2 = Label(window, image = photo2)  \n",
        "  \n",
        "label1.pack(side=LEFT)  \n",
        "label2.pack(side=RIGHT)  \n",
        "window.mainloop()"
      ],
      "metadata": {
        "id": "Xtbm1UqhagUh"
      },
      "execution_count": null,
      "outputs": []
    },
    {
      "cell_type": "markdown",
      "source": [
        "### tkButton"
      ],
      "metadata": {
        "id": "UkVkR4O4agkX"
      }
    },
    {
      "cell_type": "code",
      "source": [
        "#버튼\n",
        "from tkinter import *  \n",
        "  \n",
        "tk =Tk()  \n",
        "tk.geometry(\"400x400\")  \n",
        "button1 = Button(tk, text=\"파이썬 종료\", fg=\"blue\", bg=\"yellow\", command=quit)\n",
        "button1.pack()  \n",
        "\n",
        "tk.mainloop()"
      ],
      "metadata": {
        "id": "lUJq5rRYaljC"
      },
      "execution_count": null,
      "outputs": []
    },
    {
      "cell_type": "markdown",
      "source": [
        "### tkButtonimg"
      ],
      "metadata": {
        "id": "nZQjK0DEal6I"
      }
    },
    {
      "cell_type": "code",
      "source": [
        "from tkinter import *  \n",
        "from tkinter import messagebox  \n",
        "  \n",
        "def myFunc():  \n",
        "    messagebox.showinfo(\"얌마\", \"초코비 내놔\")  \n",
        "\n",
        "tk = Tk()  \n",
        "photo = PhotoImage(file=\"D:\\\\bpy\\\\Zzanggu.png\")  \n",
        "#button1 = Button(tk, text=\"파이썬 종료\", fg=blue, bg=\"yellow\" command=quit)\n",
        "button1 = Button(tk, image=photo, command=myFunc)  \n",
        "  \n",
        "button1.pack()  \n",
        "tk.mainloop()  "
      ],
      "metadata": {
        "id": "GmgYq4dGaqAB"
      },
      "execution_count": null,
      "outputs": []
    }
  ]
}