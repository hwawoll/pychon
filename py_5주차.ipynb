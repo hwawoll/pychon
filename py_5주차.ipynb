{
  "nbformat": 4,
  "nbformat_minor": 0,
  "metadata": {
    "colab": {
      "provenance": [],
      "toc_visible": true,
      "authorship_tag": "ABX9TyMiIOxFWyM5jqt2ACjF3ZWZ",
      "include_colab_link": true
    },
    "kernelspec": {
      "name": "python3",
      "display_name": "Python 3"
    },
    "language_info": {
      "name": "python"
    }
  },
  "cells": [
    {
      "cell_type": "markdown",
      "metadata": {
        "id": "view-in-github",
        "colab_type": "text"
      },
      "source": [
        "<a href=\"https://colab.research.google.com/github/hwawoll/pychon/blob/main/py_5%EC%A3%BC%EC%B0%A8.ipynb\" target=\"_parent\"><img src=\"https://colab.research.google.com/assets/colab-badge.svg\" alt=\"Open In Colab\"/></a>"
      ]
    },
    {
      "cell_type": "markdown",
      "source": [
        "# Ch5 파일 처리  \n",
        "\"r\" read  \n",
        "\"a\" append  \n",
        "\"w\" write  \n",
        "\"x\" create  \n",
        "\"t\" text  \n",
        "\"b\" binary"
      ],
      "metadata": {
        "id": "NTYXkFGUv0yF"
      }
    },
    {
      "cell_type": "code",
      "source": [
        "# w  \n",
        "from google.colab import files  \n",
        "  \n",
        "f = open(\"a.txt\",'w')  \n",
        "f.write(\"12345\")  \n",
        "f.close()  \n",
        "  \n",
        "f = open(\"a.txt\",'w')  \n",
        "f.write(\"abcde\")  \n",
        "f.close()\n",
        "  \n",
        "files.download('a.txt')"
      ],
      "metadata": {
        "colab": {
          "base_uri": "https://localhost:8080/",
          "height": 17
        },
        "id": "xBZXlUyqwR71",
        "outputId": "4fa4d090-06c1-4d11-8a18-028ad6eb48bf"
      },
      "execution_count": 5,
      "outputs": [
        {
          "output_type": "display_data",
          "data": {
            "text/plain": [
              "<IPython.core.display.Javascript object>"
            ],
            "application/javascript": [
              "\n",
              "    async function download(id, filename, size) {\n",
              "      if (!google.colab.kernel.accessAllowed) {\n",
              "        return;\n",
              "      }\n",
              "      const div = document.createElement('div');\n",
              "      const label = document.createElement('label');\n",
              "      label.textContent = `Downloading \"${filename}\": `;\n",
              "      div.appendChild(label);\n",
              "      const progress = document.createElement('progress');\n",
              "      progress.max = size;\n",
              "      div.appendChild(progress);\n",
              "      document.body.appendChild(div);\n",
              "\n",
              "      const buffers = [];\n",
              "      let downloaded = 0;\n",
              "\n",
              "      const channel = await google.colab.kernel.comms.open(id);\n",
              "      // Send a message to notify the kernel that we're ready.\n",
              "      channel.send({})\n",
              "\n",
              "      for await (const message of channel.messages) {\n",
              "        // Send a message to notify the kernel that we're ready.\n",
              "        channel.send({})\n",
              "        if (message.buffers) {\n",
              "          for (const buffer of message.buffers) {\n",
              "            buffers.push(buffer);\n",
              "            downloaded += buffer.byteLength;\n",
              "            progress.value = downloaded;\n",
              "          }\n",
              "        }\n",
              "      }\n",
              "      const blob = new Blob(buffers, {type: 'application/binary'});\n",
              "      const a = document.createElement('a');\n",
              "      a.href = window.URL.createObjectURL(blob);\n",
              "      a.download = filename;\n",
              "      div.appendChild(a);\n",
              "      a.click();\n",
              "      div.remove();\n",
              "    }\n",
              "  "
            ]
          },
          "metadata": {}
        },
        {
          "output_type": "display_data",
          "data": {
            "text/plain": [
              "<IPython.core.display.Javascript object>"
            ],
            "application/javascript": [
              "download(\"download_2427682f-3297-461c-92df-41d73882263b\", \"a.txt\", 5)"
            ]
          },
          "metadata": {}
        }
      ]
    },
    {
      "cell_type": "code",
      "source": [
        "from google.colab import files\n",
        "\n",
        "f = open(\"a.txt\",'w')  \n",
        "f.write(\"12345\")  \n",
        "f.close()  \n",
        "  \n",
        "f = open(\"a.txt\",'a')  \n",
        "f.write(\"6789\")  \n",
        "f.close()  \n",
        "  \n",
        "files.download('a.txt')"
      ],
      "metadata": {
        "colab": {
          "base_uri": "https://localhost:8080/",
          "height": 17
        },
        "id": "qInVlM5bx7gd",
        "outputId": "18df81db-ba68-4852-9ae3-77907f5ba914"
      },
      "execution_count": 7,
      "outputs": [
        {
          "output_type": "display_data",
          "data": {
            "text/plain": [
              "<IPython.core.display.Javascript object>"
            ],
            "application/javascript": [
              "\n",
              "    async function download(id, filename, size) {\n",
              "      if (!google.colab.kernel.accessAllowed) {\n",
              "        return;\n",
              "      }\n",
              "      const div = document.createElement('div');\n",
              "      const label = document.createElement('label');\n",
              "      label.textContent = `Downloading \"${filename}\": `;\n",
              "      div.appendChild(label);\n",
              "      const progress = document.createElement('progress');\n",
              "      progress.max = size;\n",
              "      div.appendChild(progress);\n",
              "      document.body.appendChild(div);\n",
              "\n",
              "      const buffers = [];\n",
              "      let downloaded = 0;\n",
              "\n",
              "      const channel = await google.colab.kernel.comms.open(id);\n",
              "      // Send a message to notify the kernel that we're ready.\n",
              "      channel.send({})\n",
              "\n",
              "      for await (const message of channel.messages) {\n",
              "        // Send a message to notify the kernel that we're ready.\n",
              "        channel.send({})\n",
              "        if (message.buffers) {\n",
              "          for (const buffer of message.buffers) {\n",
              "            buffers.push(buffer);\n",
              "            downloaded += buffer.byteLength;\n",
              "            progress.value = downloaded;\n",
              "          }\n",
              "        }\n",
              "      }\n",
              "      const blob = new Blob(buffers, {type: 'application/binary'});\n",
              "      const a = document.createElement('a');\n",
              "      a.href = window.URL.createObjectURL(blob);\n",
              "      a.download = filename;\n",
              "      div.appendChild(a);\n",
              "      a.click();\n",
              "      div.remove();\n",
              "    }\n",
              "  "
            ]
          },
          "metadata": {}
        },
        {
          "output_type": "display_data",
          "data": {
            "text/plain": [
              "<IPython.core.display.Javascript object>"
            ],
            "application/javascript": [
              "download(\"download_967deb12-af8f-4abf-a942-6a8fde2bd5e0\", \"a.txt\", 9)"
            ]
          },
          "metadata": {}
        }
      ]
    },
    {
      "cell_type": "code",
      "source": [
        "from google.colab import files  \n",
        "# 생성된 파일이 있으면 에러  \n",
        "f = open(\"b.txt\",'w')  \n",
        "f.write(\"abcde\")  \n",
        "f.close()  \n",
        "  \n",
        "files.download('b.txt')"
      ],
      "metadata": {
        "colab": {
          "base_uri": "https://localhost:8080/",
          "height": 17
        },
        "id": "2CfdSrRHy07W",
        "outputId": "c1c4fe62-8683-4b6a-e9b2-63bc3e8be635"
      },
      "execution_count": 8,
      "outputs": [
        {
          "output_type": "display_data",
          "data": {
            "text/plain": [
              "<IPython.core.display.Javascript object>"
            ],
            "application/javascript": [
              "\n",
              "    async function download(id, filename, size) {\n",
              "      if (!google.colab.kernel.accessAllowed) {\n",
              "        return;\n",
              "      }\n",
              "      const div = document.createElement('div');\n",
              "      const label = document.createElement('label');\n",
              "      label.textContent = `Downloading \"${filename}\": `;\n",
              "      div.appendChild(label);\n",
              "      const progress = document.createElement('progress');\n",
              "      progress.max = size;\n",
              "      div.appendChild(progress);\n",
              "      document.body.appendChild(div);\n",
              "\n",
              "      const buffers = [];\n",
              "      let downloaded = 0;\n",
              "\n",
              "      const channel = await google.colab.kernel.comms.open(id);\n",
              "      // Send a message to notify the kernel that we're ready.\n",
              "      channel.send({})\n",
              "\n",
              "      for await (const message of channel.messages) {\n",
              "        // Send a message to notify the kernel that we're ready.\n",
              "        channel.send({})\n",
              "        if (message.buffers) {\n",
              "          for (const buffer of message.buffers) {\n",
              "            buffers.push(buffer);\n",
              "            downloaded += buffer.byteLength;\n",
              "            progress.value = downloaded;\n",
              "          }\n",
              "        }\n",
              "      }\n",
              "      const blob = new Blob(buffers, {type: 'application/binary'});\n",
              "      const a = document.createElement('a');\n",
              "      a.href = window.URL.createObjectURL(blob);\n",
              "      a.download = filename;\n",
              "      div.appendChild(a);\n",
              "      a.click();\n",
              "      div.remove();\n",
              "    }\n",
              "  "
            ]
          },
          "metadata": {}
        },
        {
          "output_type": "display_data",
          "data": {
            "text/plain": [
              "<IPython.core.display.Javascript object>"
            ],
            "application/javascript": [
              "download(\"download_fd98f252-a07c-4932-b95f-bf33a78aea4b\", \"b.txt\", 5)"
            ]
          },
          "metadata": {}
        }
      ]
    },
    {
      "cell_type": "code",
      "source": [
        "# 여러줄 내용 입력  \n",
        "from google.colab import files  \n",
        "f = open(\"a.txt\",'w')  \n",
        "# f.write(\"12345678\\n987654321\\nabcde\")  \n",
        "f.write(\"\"\"123\n",
        "4567\n",
        "890\"\"\")  \n",
        "f.close()  \n",
        "  \n",
        "files.download('a.txt')"
      ],
      "metadata": {
        "colab": {
          "base_uri": "https://localhost:8080/",
          "height": 17
        },
        "id": "XAtmHsYFzYHG",
        "outputId": "702a6122-2707-40f9-e1e0-0ccb1825d8c7"
      },
      "execution_count": 10,
      "outputs": [
        {
          "output_type": "display_data",
          "data": {
            "text/plain": [
              "<IPython.core.display.Javascript object>"
            ],
            "application/javascript": [
              "\n",
              "    async function download(id, filename, size) {\n",
              "      if (!google.colab.kernel.accessAllowed) {\n",
              "        return;\n",
              "      }\n",
              "      const div = document.createElement('div');\n",
              "      const label = document.createElement('label');\n",
              "      label.textContent = `Downloading \"${filename}\": `;\n",
              "      div.appendChild(label);\n",
              "      const progress = document.createElement('progress');\n",
              "      progress.max = size;\n",
              "      div.appendChild(progress);\n",
              "      document.body.appendChild(div);\n",
              "\n",
              "      const buffers = [];\n",
              "      let downloaded = 0;\n",
              "\n",
              "      const channel = await google.colab.kernel.comms.open(id);\n",
              "      // Send a message to notify the kernel that we're ready.\n",
              "      channel.send({})\n",
              "\n",
              "      for await (const message of channel.messages) {\n",
              "        // Send a message to notify the kernel that we're ready.\n",
              "        channel.send({})\n",
              "        if (message.buffers) {\n",
              "          for (const buffer of message.buffers) {\n",
              "            buffers.push(buffer);\n",
              "            downloaded += buffer.byteLength;\n",
              "            progress.value = downloaded;\n",
              "          }\n",
              "        }\n",
              "      }\n",
              "      const blob = new Blob(buffers, {type: 'application/binary'});\n",
              "      const a = document.createElement('a');\n",
              "      a.href = window.URL.createObjectURL(blob);\n",
              "      a.download = filename;\n",
              "      div.appendChild(a);\n",
              "      a.click();\n",
              "      div.remove();\n",
              "    }\n",
              "  "
            ]
          },
          "metadata": {}
        },
        {
          "output_type": "display_data",
          "data": {
            "text/plain": [
              "<IPython.core.display.Javascript object>"
            ],
            "application/javascript": [
              "download(\"download_f08eb468-2c3b-4f81-9e60-e2ee9e569c41\", \"a.txt\", 12)"
            ]
          },
          "metadata": {}
        }
      ]
    },
    {
      "cell_type": "code",
      "source": [
        "# 리스트. 튜플 내용을 입력  \n",
        "from google.colab import files  \n",
        "  \n",
        "t = (\"1\",\"2\",\"3\",\"4\",\"\\n\")  \n",
        "l = [\"a\",\"b\",\"c\",\"d\"]  \n",
        "f = open(\"a.txt\",'w')  \n",
        "for i in range(0,5):\n",
        "  f.writelines(t[i])  \n",
        "f.writelines(l)  \n",
        "f.close  \n",
        "  \n",
        "files.download('a.txt')"
      ],
      "metadata": {
        "colab": {
          "base_uri": "https://localhost:8080/",
          "height": 17
        },
        "id": "lnS-UrlK0eie",
        "outputId": "0e44a597-a3fc-4649-bce6-a89b5615847a"
      },
      "execution_count": 12,
      "outputs": [
        {
          "output_type": "display_data",
          "data": {
            "text/plain": [
              "<IPython.core.display.Javascript object>"
            ],
            "application/javascript": [
              "\n",
              "    async function download(id, filename, size) {\n",
              "      if (!google.colab.kernel.accessAllowed) {\n",
              "        return;\n",
              "      }\n",
              "      const div = document.createElement('div');\n",
              "      const label = document.createElement('label');\n",
              "      label.textContent = `Downloading \"${filename}\": `;\n",
              "      div.appendChild(label);\n",
              "      const progress = document.createElement('progress');\n",
              "      progress.max = size;\n",
              "      div.appendChild(progress);\n",
              "      document.body.appendChild(div);\n",
              "\n",
              "      const buffers = [];\n",
              "      let downloaded = 0;\n",
              "\n",
              "      const channel = await google.colab.kernel.comms.open(id);\n",
              "      // Send a message to notify the kernel that we're ready.\n",
              "      channel.send({})\n",
              "\n",
              "      for await (const message of channel.messages) {\n",
              "        // Send a message to notify the kernel that we're ready.\n",
              "        channel.send({})\n",
              "        if (message.buffers) {\n",
              "          for (const buffer of message.buffers) {\n",
              "            buffers.push(buffer);\n",
              "            downloaded += buffer.byteLength;\n",
              "            progress.value = downloaded;\n",
              "          }\n",
              "        }\n",
              "      }\n",
              "      const blob = new Blob(buffers, {type: 'application/binary'});\n",
              "      const a = document.createElement('a');\n",
              "      a.href = window.URL.createObjectURL(blob);\n",
              "      a.download = filename;\n",
              "      div.appendChild(a);\n",
              "      a.click();\n",
              "      div.remove();\n",
              "    }\n",
              "  "
            ]
          },
          "metadata": {}
        },
        {
          "output_type": "display_data",
          "data": {
            "text/plain": [
              "<IPython.core.display.Javascript object>"
            ],
            "application/javascript": [
              "download(\"download_a3396279-7936-4d55-a0d6-c857bf5bd4cd\", \"a.txt\", 0)"
            ]
          },
          "metadata": {}
        }
      ]
    },
    {
      "cell_type": "code",
      "source": [
        "# read 모드로 파일 열기  \n",
        "from google.colab import files  \n",
        "  \n",
        "f = open(\"a.txt\",'w')  \n",
        "f.write(\"1234\")  \n",
        "f.close()  \n",
        "  \n",
        "f = open(\"a.txt\",'r')  \n",
        "print(f.read())  \n",
        "f.close()  \n",
        "  \n",
        "files.download(\"a.txt\")"
      ],
      "metadata": {
        "colab": {
          "base_uri": "https://localhost:8080/",
          "height": 35
        },
        "id": "Lt_SnaiP1wu4",
        "outputId": "5ddda28f-6f16-4e5d-cc2f-adb298f4e410"
      },
      "execution_count": 13,
      "outputs": [
        {
          "output_type": "stream",
          "name": "stdout",
          "text": [
            "1234\n"
          ]
        },
        {
          "output_type": "display_data",
          "data": {
            "text/plain": [
              "<IPython.core.display.Javascript object>"
            ],
            "application/javascript": [
              "\n",
              "    async function download(id, filename, size) {\n",
              "      if (!google.colab.kernel.accessAllowed) {\n",
              "        return;\n",
              "      }\n",
              "      const div = document.createElement('div');\n",
              "      const label = document.createElement('label');\n",
              "      label.textContent = `Downloading \"${filename}\": `;\n",
              "      div.appendChild(label);\n",
              "      const progress = document.createElement('progress');\n",
              "      progress.max = size;\n",
              "      div.appendChild(progress);\n",
              "      document.body.appendChild(div);\n",
              "\n",
              "      const buffers = [];\n",
              "      let downloaded = 0;\n",
              "\n",
              "      const channel = await google.colab.kernel.comms.open(id);\n",
              "      // Send a message to notify the kernel that we're ready.\n",
              "      channel.send({})\n",
              "\n",
              "      for await (const message of channel.messages) {\n",
              "        // Send a message to notify the kernel that we're ready.\n",
              "        channel.send({})\n",
              "        if (message.buffers) {\n",
              "          for (const buffer of message.buffers) {\n",
              "            buffers.push(buffer);\n",
              "            downloaded += buffer.byteLength;\n",
              "            progress.value = downloaded;\n",
              "          }\n",
              "        }\n",
              "      }\n",
              "      const blob = new Blob(buffers, {type: 'application/binary'});\n",
              "      const a = document.createElement('a');\n",
              "      a.href = window.URL.createObjectURL(blob);\n",
              "      a.download = filename;\n",
              "      div.appendChild(a);\n",
              "      a.click();\n",
              "      div.remove();\n",
              "    }\n",
              "  "
            ]
          },
          "metadata": {}
        },
        {
          "output_type": "display_data",
          "data": {
            "text/plain": [
              "<IPython.core.display.Javascript object>"
            ],
            "application/javascript": [
              "download(\"download_5671f1e0-b678-464c-95ca-8f1149290ebf\", \"a.txt\", 4)"
            ]
          },
          "metadata": {}
        }
      ]
    },
    {
      "cell_type": "code",
      "source": [
        "# readline() 함수 : 한줄씩 가저옴  \n",
        "f = open(\"a.txt\",'w')  \n",
        "f.write(\"123\\nabcd\")  \n",
        "f.close()  \n",
        "  \n",
        "f = open(\"a.txt\",'r')  \n",
        "print(f.readline())  \n",
        "print(f.readline())  \n",
        "# print(f.readline())\n",
        "f.close()"
      ],
      "metadata": {
        "colab": {
          "base_uri": "https://localhost:8080/"
        },
        "id": "ZTM9BhBH2emO",
        "outputId": "2982700c-8376-4f7b-e0cf-07c55c5db68b"
      },
      "execution_count": 15,
      "outputs": [
        {
          "output_type": "stream",
          "name": "stdout",
          "text": [
            "123\n",
            "\n",
            "abcd\n"
          ]
        }
      ]
    },
    {
      "cell_type": "code",
      "source": [
        "from google.colab import files  \n",
        "  \n",
        "import os  \n",
        "if os.path.exists(\"a.txt\"):  \n",
        "  os.remove(\"a.txt\") #os.rmdir(\"folder\")  \n",
        "else:\n",
        "  print(\"파일이 없음\")"
      ],
      "metadata": {
        "colab": {
          "base_uri": "https://localhost:8080/"
        },
        "id": "MTJ4wViZ8tYX",
        "outputId": "e726434e-8eb2-426b-bc01-38c95c2422cc"
      },
      "execution_count": 17,
      "outputs": [
        {
          "output_type": "stream",
          "name": "stdout",
          "text": [
            "파일이 없음\n"
          ]
        }
      ]
    },
    {
      "cell_type": "code",
      "source": [
        "from google.colab import files  \n",
        "import os  \n",
        "  \n",
        "print(os.listdir('.'))  \n",
        "os.rename(\"b.txt\",'a.txt') #file 이름 변경  \n",
        "print(os.listdir('.'))  "
      ],
      "metadata": {
        "colab": {
          "base_uri": "https://localhost:8080/"
        },
        "id": "7YufntQX9sfQ",
        "outputId": "c882db93-08d3-48e6-dd68-420edd7fc186"
      },
      "execution_count": 19,
      "outputs": [
        {
          "output_type": "stream",
          "name": "stdout",
          "text": [
            "['.config', 'b.txt', 'sample_data']\n",
            "['.config', 'a.txt', 'sample_data']\n"
          ]
        }
      ]
    },
    {
      "cell_type": "code",
      "source": [
        "from google.colab import files  \n",
        "import os  \n",
        "# 파일 존재 유무 확인  \n",
        "print(os.path.exists('a.txt'))  \n",
        "print(os.path.exists('b.txt'))"
      ],
      "metadata": {
        "colab": {
          "base_uri": "https://localhost:8080/"
        },
        "id": "Pvb5WyMT-3Yo",
        "outputId": "21cc20a0-6717-4aa1-96c9-82a3db1e0d45"
      },
      "execution_count": 20,
      "outputs": [
        {
          "output_type": "stream",
          "name": "stdout",
          "text": [
            "True\n",
            "False\n"
          ]
        }
      ]
    },
    {
      "cell_type": "code",
      "source": [
        "# 구구단 파일로 저장  \n",
        "from google.colab import files  \n",
        "import sys  \n",
        "  \n",
        "f = open(\"a.txt\",'w', encoding='utf8') # euc-kr  \n",
        "sys.stdout = f \n",
        "for i in range(2,10):  \n",
        "  for j in range(1,10):  \n",
        "    print(\"{} x {} = {}\".format(i,j,i*j))  \n",
        "  print()\n",
        "f.close()  \n",
        "  \n",
        "files.download(\"a.txt\")"
      ],
      "metadata": {
        "id": "fKlz2tk2_d7Q"
      },
      "execution_count": null,
      "outputs": []
    },
    {
      "cell_type": "code",
      "source": [
        "f = open(\"c.txt\",'w', encoding='utf8')  \n",
        "f.write(\"동해물과 백두산이 마르고 닳도록\\n안녕하세요!\\nHello World!!\") \n",
        "f.close()  \n",
        "  \n",
        "f.open(\"c.txt\",'r', encoding='utf8')  \n",
        "lines = f.readline()  \n",
        "for line in  lines:  \n",
        "  print(line, end='')  \n",
        "f.close()"
      ],
      "metadata": {
        "id": "s-7vu2_MDmd5"
      },
      "execution_count": null,
      "outputs": []
    },
    {
      "cell_type": "code",
      "source": [
        "# Diamond\n",
        "y = int(input(\"줄 수 입력하세요\"))  \n",
        "x = int(y/2)+1  \n",
        "  \n",
        "for j in range(1, 2*x):  \n",
        "    if(i <= x):  \n",
        "        for j in range(x-i):  \n",
        "            print(\" \", end='')  \n",
        "        for j in range(2*i-1):  \n",
        "            print(\"@\", end='')\n",
        "        print()  \n",
        "  \n",
        "    else :  \n",
        "         for j in range(i-x):  \n",
        "            print(\" \", end='')\n",
        "         for j in range((2*x-i)*2-1):  \n",
        "            print(\"@\", end='')\n",
        "        print()"
      ],
      "metadata": {
        "id": "h-GvSPFEWftr"
      },
      "execution_count": null,
      "outputs": []
    },
    {
      "cell_type": "code",
      "source": [
        "x = int(input(\"줄수 입력: \"))  \n",
        "for i in range(1,x+1):  \n",
        "    for j in range(i):  \n",
        "        print(\"@\", end='')  \n",
        "    print()  \n",
        "  \n",
        "\"\"\"  \n",
        "def starW(i):  \n",
        "    if i==6:  \n",
        "        return  \n",
        "    print(\"@\"*i)  \n",
        "    i = i+1  \n",
        "    starW(1)  \n",
        "  \n",
        "starW(1)  \n",
        "  \n",
        "@  \n",
        "@@  \n",
        "@@@  \n",
        "@@@@  \n",
        "@@@@@  \n",
        "\"\"\"  \n",
        "\"\"\"  \n",
        "*****  \n",
        "****  \n",
        "***  \n",
        "**  \n",
        "*  \n",
        "\"\"\""
      ],
      "metadata": {
        "id": "z1zeaD-WWbqD"
      },
      "execution_count": null,
      "outputs": []
    }
  ]
}