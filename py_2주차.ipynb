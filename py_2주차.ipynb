{
  "nbformat": 4,
  "nbformat_minor": 0,
  "metadata": {
    "colab": {
      "provenance": [],
      "authorship_tag": "ABX9TyPidbfTm6anzMIh3YfHDWE/",
      "include_colab_link": true
    },
    "kernelspec": {
      "name": "python3",
      "display_name": "Python 3"
    },
    "language_info": {
      "name": "python"
    }
  },
  "cells": [
    {
      "cell_type": "markdown",
      "metadata": {
        "id": "view-in-github",
        "colab_type": "text"
      },
      "source": [
        "<a href=\"https://colab.research.google.com/github/hwawoll/pychon/blob/main/py_2%EC%A3%BC%EC%B0%A8.ipynb\" target=\"_parent\"><img src=\"https://colab.research.google.com/assets/colab-badge.svg\" alt=\"Open In Colab\"/></a>"
      ]
    },
    {
      "cell_type": "markdown",
      "source": [
        "# 2. print() 서식 출력력"
      ],
      "metadata": {
        "id": "S96a0SMyiixg"
      }
    },
    {
      "cell_type": "code",
      "source": [
        "print( \"%d\" % 123)  \n",
        "print( \"%5d\" % 123)  \n",
        "print( \"05%d\" % 123) \n",
        "   \n",
        "print( \"%f\" % 123.45)  \n",
        "print( \"%7.1f\" % 123.45)  \n",
        "print(\"%7.3f\" % 123.45)  \n",
        "  \n",
        "print(\"%s\" % \"대한민국\")  \n",
        "print(\"%6s\" % \"대한민국\")  "
      ],
      "metadata": {
        "colab": {
          "base_uri": "https://localhost:8080/"
        },
        "id": "Wj80v2-4iud9",
        "outputId": "9b9695f3-70d9-48aa-b2c7-e3ebdfc826f1"
      },
      "execution_count": 3,
      "outputs": [
        {
          "output_type": "stream",
          "name": "stdout",
          "text": [
            "123\n",
            "  123\n",
            "05123\n",
            "123.450000\n",
            "  123.5\n",
            "123.450\n",
            "대한민국\n",
            "  대한민국\n"
          ]
        }
      ]
    },
    {
      "cell_type": "markdown",
      "source": [
        "#### Format 함수 : 순서 지정 가능"
      ],
      "metadata": {
        "id": "mdJemC1wknST"
      }
    },
    {
      "cell_type": "code",
      "source": [
        "print(\"{0:d} {1:5d} {2:05d}\".format(123,456,789))"
      ],
      "metadata": {
        "colab": {
          "base_uri": "https://localhost:8080/"
        },
        "id": "bcBr5pGBj9o6",
        "outputId": "9746a76e-e706-4030-fb98-6786b7811377"
      },
      "execution_count": 4,
      "outputs": [
        {
          "output_type": "stream",
          "name": "stdout",
          "text": [
            "123   456 00789\n"
          ]
        }
      ]
    },
    {
      "cell_type": "code",
      "source": [
        "print(\"{2:d} {1:5d} {0:05d}\".format(123,456,789))"
      ],
      "metadata": {
        "colab": {
          "base_uri": "https://localhost:8080/"
        },
        "id": "xaxid_FukZGw",
        "outputId": "c3f892de-9305-43a8-a3ca-98c31645488c"
      },
      "execution_count": 5,
      "outputs": [
        {
          "output_type": "stream",
          "name": "stdout",
          "text": [
            "789   456 00123\n"
          ]
        }
      ]
    },
    {
      "cell_type": "markdown",
      "source": [
        "#### 서식 출력 "
      ],
      "metadata": {
        "id": "f4Ka_uxPk7xZ"
      }
    },
    {
      "cell_type": "code",
      "source": [
        "print(\"\\n줄바꿈\\n연습입니다.\")"
      ],
      "metadata": {
        "colab": {
          "base_uri": "https://localhost:8080/"
        },
        "id": "7733HvvKlFZs",
        "outputId": "f30c226b-6bb3-4304-c758-54a24fd89d99"
      },
      "execution_count": 7,
      "outputs": [
        {
          "output_type": "stream",
          "name": "stdout",
          "text": [
            "\n",
            "줄바꿈\n",
            "연습입니다.\n"
          ]
        }
      ]
    },
    {
      "cell_type": "code",
      "source": [
        "print(\"\\t탭키\\t연습\")"
      ],
      "metadata": {
        "colab": {
          "base_uri": "https://localhost:8080/"
        },
        "id": "_RtpyaW-lUOl",
        "outputId": "9d918f16-5a4f-4107-88d4-5616e7d9b817"
      },
      "execution_count": 8,
      "outputs": [
        {
          "output_type": "stream",
          "name": "stdout",
          "text": [
            "\t탭키\t연습\n"
          ]
        }
      ]
    },
    {
      "cell_type": "code",
      "source": [
        "print(\"글자가 \\\"강조되는\\\" 효과1\")  \n",
        "print(\"글자가 \\'강조되는\\' 효과1\")  \n",
        "print(\"역슬레시 3개 출력 \\\\\\\\\\\\\")  \n",
        "print(r\"\\n \\t \\\\ \\' @를 그대로 출력\") #그대로 출력됨"
      ],
      "metadata": {
        "colab": {
          "base_uri": "https://localhost:8080/"
        },
        "id": "xRY_wOWLld3d",
        "outputId": "642bd0dd-8782-4472-e4ba-ed8179e61a58"
      },
      "execution_count": 13,
      "outputs": [
        {
          "output_type": "stream",
          "name": "stdout",
          "text": [
            "글자가 \"강조되는\" 효과1\n",
            "글자가 '강조되는' 효과1\n",
            "역슬레시 3개 출력 \\\\\\\n",
            "\\n \\t \\\\ \\' @를 그대로 출력\n"
          ]
        }
      ]
    },
    {
      "cell_type": "markdown",
      "source": [
        "#### 관계 연산자"
      ],
      "metadata": {
        "id": "86bx1fYfoi0g"
      }
    },
    {
      "cell_type": "code",
      "source": [
        "a,b = 10,20  \n",
        "print(a==b, a!=b, a>b, a<b, a>=b, a<=b)"
      ],
      "metadata": {
        "colab": {
          "base_uri": "https://localhost:8080/"
        },
        "id": "AKfYfaBcomk3",
        "outputId": "18cfcc56-41cb-4af0-93b3-450d5b70fd95"
      },
      "execution_count": 14,
      "outputs": [
        {
          "output_type": "stream",
          "name": "stdout",
          "text": [
            "False True False True False True\n"
          ]
        }
      ]
    },
    {
      "cell_type": "markdown",
      "source": [
        "#### 논리 연산자"
      ],
      "metadata": {
        "id": "ddAf169mo-se"
      }
    },
    {
      "cell_type": "code",
      "source": [
        "a = 99  \n",
        "print((a>100) and (a<200))  \n",
        "print((a>100) or (a<200))  \n",
        "print(not(a==100))"
      ],
      "metadata": {
        "colab": {
          "base_uri": "https://localhost:8080/"
        },
        "id": "kDg2rwCKo-F8",
        "outputId": "77049c66-1a55-494b-dcd7-68fd9a0c8aa4"
      },
      "execution_count": 15,
      "outputs": [
        {
          "output_type": "stream",
          "name": "stdout",
          "text": [
            "False\n",
            "True\n",
            "True\n"
          ]
        }
      ]
    },
    {
      "cell_type": "code",
      "source": [
        "if(123):  \n",
        "  print(\"참이면 보입니다.\")  \n",
        "if(0):  \n",
        "  print(\"거짓이면 안 보입니다.\")"
      ],
      "metadata": {
        "colab": {
          "base_uri": "https://localhost:8080/"
        },
        "id": "RasWW5Z0pnXB",
        "outputId": "1c4ad1a3-5256-43f5-c833-3fa96ea8afa8"
      },
      "execution_count": 16,
      "outputs": [
        {
          "output_type": "stream",
          "name": "stdout",
          "text": [
            "참이면 보입니다.\n"
          ]
        }
      ]
    },
    {
      "cell_type": "markdown",
      "source": [
        "### 퀴즈2 숫자 입력을 받아 동전으로 바꿔주는 프로그램 ( 500원, 100원, 50원, 10원) 나머지는 거스름 돈으로 출력"
      ],
      "metadata": {
        "id": "7WjZkSjHvpca"
      }
    },
    {
      "cell_type": "code",
      "source": [
        "# 변수  \n",
        "bill, c500, c100, c50, c10 = 0,0,0,0,0  \n",
        "bill = int(input(\"바꿀돈은?\"))  \n",
        "  \n",
        "c500 = bill // 500 # 몫  \n",
        "bill %= 500 # bill = bill % 500  \n",
        "c100 = bill // 100  \n",
        "bill %= 100  \n",
        "c50 = bill // 50    \n",
        "bill %= 50  \n",
        "c10 = bill // 10  \n",
        "bill %= 10  \n",
        "  \n",
        "print(\"500원짜리 : %d개\" % c500)  \n",
        "print(\"100원짜리 : %d개\" % c100)  \n",
        "print(\"10원짜리 : %d개\" % c100)  \n",
        "print(\"잔돈 %d원\" % bill)"
      ],
      "metadata": {
        "colab": {
          "base_uri": "https://localhost:8080/"
        },
        "id": "c4zO-EF3wYnd",
        "outputId": "3f349051-4d66-44af-b953-ba4670f50128"
      },
      "execution_count": 21,
      "outputs": [
        {
          "output_type": "stream",
          "name": "stdout",
          "text": [
            "바꿀돈은?3546\n",
            "500원짜리 : 7개\n",
            "100원짜리 : 0개\n",
            "10원짜리 : 0개\n",
            "잔돈 6원\n"
          ]
        }
      ]
    },
    {
      "cell_type": "markdown",
      "source": [
        "###조건문"
      ],
      "metadata": {
        "id": "1r72Q8Ct1M6E"
      }
    },
    {
      "cell_type": "code",
      "source": [
        "a = 200  \n",
        "if(a<100):\n",
        "   print(\"100보다 작음\")  \n",
        "else :\n",
        "   print(\"거짓이면 이문장은 보이지 않음\")  \n",
        "print(\"프로그램 끝\")"
      ],
      "metadata": {
        "colab": {
          "base_uri": "https://localhost:8080/"
        },
        "id": "tusP3n5F1MTx",
        "outputId": "2daa6318-a67d-4c3a-e58d-0135aa6afa0b"
      },
      "execution_count": 33,
      "outputs": [
        {
          "output_type": "stream",
          "name": "stdout",
          "text": [
            "거짓이면 이문장은 보이지 않음\n",
            "프로그램 끝\n"
          ]
        }
      ]
    },
    {
      "cell_type": "code",
      "source": [
        "# 홀짝 구분  \n",
        "a = int(input(\"정수를 입력하세요 : \"))  \n",
        "if(a % 2 ==0):  \n",
        "  print(\"짝수\")  \n",
        "else :  \n",
        "  print(\"홀수\")"
      ],
      "metadata": {
        "colab": {
          "base_uri": "https://localhost:8080/"
        },
        "id": "W5HidN7D2OO9",
        "outputId": "c99c6a59-f70f-4394-aa09-42e5341b1e3d"
      },
      "execution_count": 38,
      "outputs": [
        {
          "output_type": "stream",
          "name": "stdout",
          "text": [
            "정수를 입력하세요 : 362\n",
            "짝수\n"
          ]
        }
      ]
    },
    {
      "cell_type": "code",
      "source": [
        "a = 73\n",
        "if(a > 50):  \n",
        "  if(a < 100):\n",
        "    print(\"50<a<100\")  \n",
        "  else:  \n",
        "    print(\"a>100\")  \n",
        "else:  \n",
        "  print(\"a<50\")"
      ],
      "metadata": {
        "colab": {
          "base_uri": "https://localhost:8080/"
        },
        "id": "HiBtt8nM26kp",
        "outputId": "1e1d3848-1b33-4a2f-d62f-b2bbd8271478"
      },
      "execution_count": 43,
      "outputs": [
        {
          "output_type": "stream",
          "name": "stdout",
          "text": [
            "50<a<100\n"
          ]
        }
      ]
    },
    {
      "cell_type": "code",
      "source": [
        "fruit = ['사과','배','감','포도']  \n",
        "fruit.append('딸기')  #if '딸기' not in fruit  \n",
        "if '딸기' in fruit :  \n",
        "  print(\"딸기가 있습니다.\")  \n",
        "print(fruit)"
      ],
      "metadata": {
        "colab": {
          "base_uri": "https://localhost:8080/"
        },
        "id": "RELzEqYA7mbp",
        "outputId": "a25d798f-74f8-43dd-ec6a-d80e227e6494"
      },
      "execution_count": 44,
      "outputs": [
        {
          "output_type": "stream",
          "name": "stdout",
          "text": [
            "딸기가 있습니다.\n",
            "['사과', '배', '감', '포도', '딸기']\n"
          ]
        }
      ]
    },
    {
      "cell_type": "code",
      "source": [
        "import random  \n",
        "  \n",
        "number = []  \n",
        "for num in range(0,6) :  \n",
        "  number.append(random.randrange(1,46))  \n",
        "print(\"생성된 리스트\", number)\n"
      ],
      "metadata": {
        "colab": {
          "base_uri": "https://localhost:8080/"
        },
        "id": "JoAQtkTD89fI",
        "outputId": "56eb94de-aa97-467a-93d2-5b203fcdfdf3"
      },
      "execution_count": 48,
      "outputs": [
        {
          "output_type": "stream",
          "name": "stdout",
          "text": [
            "생성된 리스트 [30, 38, 42, 25, 20, 35]\n"
          ]
        }
      ]
    },
    {
      "cell_type": "markdown",
      "source": [
        "### 반복문"
      ],
      "metadata": {
        "id": "fXrejbHE-U1G"
      }
    },
    {
      "cell_type": "code",
      "source": [
        "for i in range(0,3,1): # 시작값,끝값+1,증가값  \n",
        "  print(\"%d안녕하세요~\" %i) # 반복 내용  \n",
        "  #print(i)  \n",
        "print(\"반갑습니다^^*\")"
      ],
      "metadata": {
        "colab": {
          "base_uri": "https://localhost:8080/"
        },
        "id": "FbP0q4iV-YzP",
        "outputId": "1569d6fd-89ef-43d4-a8e6-94e3524b8b81"
      },
      "execution_count": 56,
      "outputs": [
        {
          "output_type": "stream",
          "name": "stdout",
          "text": [
            "0안녕하세요~\n",
            "1안녕하세요~\n",
            "2안녕하세요~\n",
            "반갑습니다^^*\n"
          ]
        }
      ]
    },
    {
      "cell_type": "code",
      "source": [
        "for i in range(1,9,1):\n",
        "  print(\"%d \" % i, end=\"\")  \n",
        "print(\"\\n\")  \n",
        "for i in range(1,9,1):  \n",
        "  print(\"%d\" % i, end=\" \")"
      ],
      "metadata": {
        "colab": {
          "base_uri": "https://localhost:8080/"
        },
        "id": "h-jWFcYd-Xwr",
        "outputId": "3c642c7a-3706-4cbc-f20e-e03aba358b1e"
      },
      "execution_count": 63,
      "outputs": [
        {
          "output_type": "stream",
          "name": "stdout",
          "text": [
            "1 2 3 4 5 6 7 8 \n",
            "\n",
            "1 2 3 4 5 6 7 8 "
          ]
        }
      ]
    },
    {
      "cell_type": "code",
      "source": [
        "sum=0  \n",
        "for i in range(1,11,1):  \n",
        "  sum = sum + i  \n",
        "print(\"1~10까지 합계 : %d\" % sum)"
      ],
      "metadata": {
        "colab": {
          "base_uri": "https://localhost:8080/"
        },
        "id": "vHB-HzwwA4-K",
        "outputId": "1720fbe5-0d9d-4b29-9158-5c2f627d5ccb"
      },
      "execution_count": 70,
      "outputs": [
        {
          "output_type": "stream",
          "name": "stdout",
          "text": [
            "1~10까지 합계 : 55\n"
          ]
        }
      ]
    },
    {
      "cell_type": "markdown",
      "source": [
        "###Quiz3 : 숫자 입력을 받아 1부터 입력된 숫자까지의 합을 출력하시오."
      ],
      "metadata": {
        "id": "1QTJZTxqBrqm"
      }
    },
    {
      "cell_type": "code",
      "source": [
        "sum,num= 0,0\n",
        "num = int(input(\"숫자입력 : \"))  \n",
        "for i in range(1,num+1,1):  \n",
        "  sum = sum + i  \n",
        "print(\"1부터 n까지 합계 : %d\" % sum)"
      ],
      "metadata": {
        "colab": {
          "base_uri": "https://localhost:8080/"
        },
        "id": "QNd5L_WdCDdp",
        "outputId": "74fe2739-c995-4e85-f198-be812f74a636"
      },
      "execution_count": 81,
      "outputs": [
        {
          "output_type": "stream",
          "name": "stdout",
          "text": [
            "숫자입력 : 1000\n",
            "1부터 n까지 합계 : 500500\n"
          ]
        }
      ]
    },
    {
      "cell_type": "markdown",
      "source": [
        "###중첩 for문"
      ],
      "metadata": {
        "id": "LlIaCdJsDkVM"
      }
    },
    {
      "cell_type": "code",
      "source": [
        "i,j,k = 0,0,0\n",
        "k = int(input(\"구구단 단수 입력 : \"))  \n",
        "for i in range(1,10,1):  \n",
        "  print(\"%d * %d = %2d\" % (k,i,k*i))  \n",
        "print(\"\")"
      ],
      "metadata": {
        "colab": {
          "base_uri": "https://localhost:8080/"
        },
        "id": "9lcA3FlnDo3V",
        "outputId": "33d6d58a-75f1-495b-d57d-b0143e7a3a8b"
      },
      "execution_count": 90,
      "outputs": [
        {
          "output_type": "stream",
          "name": "stdout",
          "text": [
            "구구단 단수 입력 : 2\n",
            "2 * 1 =  2\n",
            "2 * 2 =  4\n",
            "2 * 3 =  6\n",
            "2 * 4 =  8\n",
            "2 * 5 = 10\n",
            "2 * 6 = 12\n",
            "2 * 7 = 14\n",
            "2 * 8 = 16\n",
            "2 * 9 = 18\n",
            "\n"
          ]
        }
      ]
    },
    {
      "cell_type": "markdown",
      "source": [
        "####quiz 구구단을 2,3,4,5 출력 후 줄바꿔서 출력하시오."
      ],
      "metadata": {
        "id": "8UEljEyTGQdg"
      }
    },
    {
      "cell_type": "code",
      "source": [
        "i,j = 0,0  \n",
        "for i in range(1,10,1):  \n",
        "  for j in range(2,6,1):  \n",
        "    print(\"%d * %d = %2d\" % (j,i,i*j), end = \"\\t\")  \n",
        "  print(\"\")"
      ],
      "metadata": {
        "colab": {
          "base_uri": "https://localhost:8080/"
        },
        "id": "oHy4lA0tDnyJ",
        "outputId": "7f77d14a-79bc-45c6-da79-2c7c8fc4b133"
      },
      "execution_count": 128,
      "outputs": [
        {
          "output_type": "stream",
          "name": "stdout",
          "text": [
            "2 * 1 =  2\t3 * 1 =  3\t4 * 1 =  4\t5 * 1 =  5\t\n",
            "2 * 2 =  4\t3 * 2 =  6\t4 * 2 =  8\t5 * 2 = 10\t\n",
            "2 * 3 =  6\t3 * 3 =  9\t4 * 3 = 12\t5 * 3 = 15\t\n",
            "2 * 4 =  8\t3 * 4 = 12\t4 * 4 = 16\t5 * 4 = 20\t\n",
            "2 * 5 = 10\t3 * 5 = 15\t4 * 5 = 20\t5 * 5 = 25\t\n",
            "2 * 6 = 12\t3 * 6 = 18\t4 * 6 = 24\t5 * 6 = 30\t\n",
            "2 * 7 = 14\t3 * 7 = 21\t4 * 7 = 28\t5 * 7 = 35\t\n",
            "2 * 8 = 16\t3 * 8 = 24\t4 * 8 = 32\t5 * 8 = 40\t\n",
            "2 * 9 = 18\t3 * 9 = 27\t4 * 9 = 36\t5 * 9 = 45\t\n"
          ]
        }
      ]
    }
  ]
}