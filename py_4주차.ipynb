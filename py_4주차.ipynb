{
  "nbformat": 4,
  "nbformat_minor": 0,
  "metadata": {
    "colab": {
      "provenance": [],
      "authorship_tag": "ABX9TyN5xDPcWwFvjwihBki4Qh8K",
      "include_colab_link": true
    },
    "kernelspec": {
      "name": "python3",
      "display_name": "Python 3"
    },
    "language_info": {
      "name": "python"
    }
  },
  "cells": [
    {
      "cell_type": "markdown",
      "metadata": {
        "id": "view-in-github",
        "colab_type": "text"
      },
      "source": [
        "<a href=\"https://colab.research.google.com/github/hwawoll/pychon/blob/main/py_4%EC%A3%BC%EC%B0%A8.ipynb\" target=\"_parent\"><img src=\"https://colab.research.google.com/assets/colab-badge.svg\" alt=\"Open In Colab\"/></a>"
      ]
    },
    {
      "cell_type": "code",
      "execution_count": null,
      "metadata": {
        "id": "HRNH80CIr3bi"
      },
      "outputs": [],
      "source": []
    },
    {
      "cell_type": "markdown",
      "source": [
        "# CH4 조건문, 반복문"
      ],
      "metadata": {
        "id": "CXkC0eusuGnu"
      }
    },
    {
      "cell_type": "markdown",
      "source": [
        "### 중첩 if문"
      ],
      "metadata": {
        "id": "ejeBUFRwuN41"
      }
    },
    {
      "cell_type": "code",
      "source": [
        "score = int(input(\"점수를 입력해 주세요 : \"))  \n",
        "if (score > 100):  \n",
        "  print(\"0~100까지의 숫자로 입력하세요.\")  \n",
        "elif(score >= 90):  \n",
        "  print(\"A\")  \n",
        "elif(score >= 80):  \n",
        "  print(\"B\")  \n",
        "elif(score >= 70):  \n",
        "  print(\"C\")  \n",
        "elif(score >= 60):  \n",
        "  print(\"D\")  \n",
        "else:\n",
        " print(\"F\")  \n",
        "print(\"학점 입니다.\")"
      ],
      "metadata": {
        "colab": {
          "base_uri": "https://localhost:8080/"
        },
        "id": "xO5GU_zMuM1e",
        "outputId": "da97aa84-4c9f-4d6a-baca-f2fd1b41beca"
      },
      "execution_count": null,
      "outputs": [
        {
          "output_type": "stream",
          "name": "stdout",
          "text": [
            "점수를 입력해 주세요 : 93\n",
            "A\n",
            "학점 입니다.\n"
          ]
        }
      ]
    },
    {
      "cell_type": "code",
      "source": [
        "score = int(input(\"점수를 입력해 주세요 : \"))  \n",
        "if (score > 100):  \n",
        "  print(\"0~100까지의 숫자로 입력하세요.\")  \n",
        "else:\n",
        "  if(score >= 90):  \n",
        "    print(\"점수: %3d A\"%(score))  \n",
        "  elif(score >= 80):  \n",
        "    print(\"점수: %3d B\"%(score))  \n",
        "  elif(score >= 70):  \n",
        "    print(\"점수: %3d C\"%(score))  \n",
        "  elif(score >= 60):  \n",
        "    print(\"점수: %3d D\"%(score))  \n",
        "  else:  \n",
        "    print(\"점수: %3d F\"%(score))  \n",
        "print(\"학점 입니다.\")"
      ],
      "metadata": {
        "colab": {
          "base_uri": "https://localhost:8080/"
        },
        "id": "0WQjyM0hxiku",
        "outputId": "ab199a90-11cb-4a55-bc3d-b57c8b3b9a07"
      },
      "execution_count": null,
      "outputs": [
        {
          "output_type": "stream",
          "name": "stdout",
          "text": [
            "점수를 입력해 주세요 : 79\n",
            "점수:  79 C\n",
            "학점 입니다.\n"
          ]
        }
      ]
    },
    {
      "cell_type": "code",
      "source": [
        "score = int(input(\"점수를 입력해 주세요 : \"))  \n",
        "if (score > 100):  \n",
        "  print(\"0~100까지의 숫자로 입력하세요.\")  \n",
        "elif(score >= 90):  \n",
        "  print(\"A\")  \n",
        "elif(score >= 80):  \n",
        "  print(\"B\")  \n",
        "elif(score >= 70):  \n",
        "  print(\"C\")  \n",
        "elif(score >= 60):  \n",
        "  print(\"D\")  \n",
        "else:\n",
        " print(\"F\")  \n",
        "print(\"학점, 점수: %3d\" %score)"
      ],
      "metadata": {
        "colab": {
          "base_uri": "https://localhost:8080/"
        },
        "id": "4yzPIhaqzSaW",
        "outputId": "4707b02c-5b64-410d-a86f-c553ec4f7675"
      },
      "execution_count": null,
      "outputs": [
        {
          "output_type": "stream",
          "name": "stdout",
          "text": [
            "점수를 입력해 주세요 : 62\n",
            "D\n",
            "학점, 점수:  62\n"
          ]
        }
      ]
    },
    {
      "cell_type": "code",
      "source": [
        "import random  \n",
        "numbers = []  \n",
        "for num in range(0,10):  \n",
        "  numbers.append(random.randrange(0,10))  \n",
        "  \n",
        "  print(\"생성된 리스트\", numbers)  \n",
        "    \n",
        "  for num in range(0,10):  \n",
        "    if num not in numbers:\n",
        "      print(\"숫자 %d는 리스트에 없습니다.\" %num)  \n",
        "    else:  \n",
        "      print(\"숫자 %d는 리스트에 있습니다.\" %num)"
      ],
      "metadata": {
        "colab": {
          "base_uri": "https://localhost:8080/"
        },
        "id": "ugELQU3Aze4_",
        "outputId": "d4684554-3e48-4d72-83f2-4ed833dcdd35"
      },
      "execution_count": null,
      "outputs": [
        {
          "output_type": "stream",
          "name": "stdout",
          "text": [
            "생성된 리스트 [5]\n",
            "숫자 0는 리스트에 없습니다.\n",
            "숫자 1는 리스트에 없습니다.\n",
            "숫자 2는 리스트에 없습니다.\n",
            "숫자 3는 리스트에 없습니다.\n",
            "숫자 4는 리스트에 없습니다.\n",
            "숫자 5는 리스트에 있습니다.\n",
            "숫자 6는 리스트에 없습니다.\n",
            "숫자 7는 리스트에 없습니다.\n",
            "숫자 8는 리스트에 없습니다.\n",
            "숫자 9는 리스트에 없습니다.\n",
            "생성된 리스트 [5, 3]\n",
            "숫자 0는 리스트에 없습니다.\n",
            "숫자 1는 리스트에 없습니다.\n",
            "숫자 2는 리스트에 없습니다.\n",
            "숫자 3는 리스트에 있습니다.\n",
            "숫자 4는 리스트에 없습니다.\n",
            "숫자 5는 리스트에 있습니다.\n",
            "숫자 6는 리스트에 없습니다.\n",
            "숫자 7는 리스트에 없습니다.\n",
            "숫자 8는 리스트에 없습니다.\n",
            "숫자 9는 리스트에 없습니다.\n",
            "생성된 리스트 [5, 3, 4]\n",
            "숫자 0는 리스트에 없습니다.\n",
            "숫자 1는 리스트에 없습니다.\n",
            "숫자 2는 리스트에 없습니다.\n",
            "숫자 3는 리스트에 있습니다.\n",
            "숫자 4는 리스트에 있습니다.\n",
            "숫자 5는 리스트에 있습니다.\n",
            "숫자 6는 리스트에 없습니다.\n",
            "숫자 7는 리스트에 없습니다.\n",
            "숫자 8는 리스트에 없습니다.\n",
            "숫자 9는 리스트에 없습니다.\n",
            "생성된 리스트 [5, 3, 4, 6]\n",
            "숫자 0는 리스트에 없습니다.\n",
            "숫자 1는 리스트에 없습니다.\n",
            "숫자 2는 리스트에 없습니다.\n",
            "숫자 3는 리스트에 있습니다.\n",
            "숫자 4는 리스트에 있습니다.\n",
            "숫자 5는 리스트에 있습니다.\n",
            "숫자 6는 리스트에 있습니다.\n",
            "숫자 7는 리스트에 없습니다.\n",
            "숫자 8는 리스트에 없습니다.\n",
            "숫자 9는 리스트에 없습니다.\n",
            "생성된 리스트 [5, 3, 4, 6, 7]\n",
            "숫자 0는 리스트에 없습니다.\n",
            "숫자 1는 리스트에 없습니다.\n",
            "숫자 2는 리스트에 없습니다.\n",
            "숫자 3는 리스트에 있습니다.\n",
            "숫자 4는 리스트에 있습니다.\n",
            "숫자 5는 리스트에 있습니다.\n",
            "숫자 6는 리스트에 있습니다.\n",
            "숫자 7는 리스트에 있습니다.\n",
            "숫자 8는 리스트에 없습니다.\n",
            "숫자 9는 리스트에 없습니다.\n",
            "생성된 리스트 [5, 3, 4, 6, 7, 7]\n",
            "숫자 0는 리스트에 없습니다.\n",
            "숫자 1는 리스트에 없습니다.\n",
            "숫자 2는 리스트에 없습니다.\n",
            "숫자 3는 리스트에 있습니다.\n",
            "숫자 4는 리스트에 있습니다.\n",
            "숫자 5는 리스트에 있습니다.\n",
            "숫자 6는 리스트에 있습니다.\n",
            "숫자 7는 리스트에 있습니다.\n",
            "숫자 8는 리스트에 없습니다.\n",
            "숫자 9는 리스트에 없습니다.\n",
            "생성된 리스트 [5, 3, 4, 6, 7, 7, 0]\n",
            "숫자 0는 리스트에 있습니다.\n",
            "숫자 1는 리스트에 없습니다.\n",
            "숫자 2는 리스트에 없습니다.\n",
            "숫자 3는 리스트에 있습니다.\n",
            "숫자 4는 리스트에 있습니다.\n",
            "숫자 5는 리스트에 있습니다.\n",
            "숫자 6는 리스트에 있습니다.\n",
            "숫자 7는 리스트에 있습니다.\n",
            "숫자 8는 리스트에 없습니다.\n",
            "숫자 9는 리스트에 없습니다.\n",
            "생성된 리스트 [5, 3, 4, 6, 7, 7, 0, 5]\n",
            "숫자 0는 리스트에 있습니다.\n",
            "숫자 1는 리스트에 없습니다.\n",
            "숫자 2는 리스트에 없습니다.\n",
            "숫자 3는 리스트에 있습니다.\n",
            "숫자 4는 리스트에 있습니다.\n",
            "숫자 5는 리스트에 있습니다.\n",
            "숫자 6는 리스트에 있습니다.\n",
            "숫자 7는 리스트에 있습니다.\n",
            "숫자 8는 리스트에 없습니다.\n",
            "숫자 9는 리스트에 없습니다.\n",
            "생성된 리스트 [5, 3, 4, 6, 7, 7, 0, 5, 3]\n",
            "숫자 0는 리스트에 있습니다.\n",
            "숫자 1는 리스트에 없습니다.\n",
            "숫자 2는 리스트에 없습니다.\n",
            "숫자 3는 리스트에 있습니다.\n",
            "숫자 4는 리스트에 있습니다.\n",
            "숫자 5는 리스트에 있습니다.\n",
            "숫자 6는 리스트에 있습니다.\n",
            "숫자 7는 리스트에 있습니다.\n",
            "숫자 8는 리스트에 없습니다.\n",
            "숫자 9는 리스트에 없습니다.\n",
            "생성된 리스트 [5, 3, 4, 6, 7, 7, 0, 5, 3, 8]\n",
            "숫자 0는 리스트에 있습니다.\n",
            "숫자 1는 리스트에 없습니다.\n",
            "숫자 2는 리스트에 없습니다.\n",
            "숫자 3는 리스트에 있습니다.\n",
            "숫자 4는 리스트에 있습니다.\n",
            "숫자 5는 리스트에 있습니다.\n",
            "숫자 6는 리스트에 있습니다.\n",
            "숫자 7는 리스트에 있습니다.\n",
            "숫자 8는 리스트에 있습니다.\n",
            "숫자 9는 리스트에 없습니다.\n"
          ]
        }
      ]
    },
    {
      "cell_type": "code",
      "source": [
        "select, answer, numStr, num1, nim2, = 0,0,\"\",0,0  \n",
        "  \n",
        "select = int(input(\"1.입력한 수식 계산 2.두수의 합계: \"))  \n",
        "  \n",
        "if select == 1:  \n",
        "  numStr = input(\"*** 수식을 입력하세요. : \")  \n",
        "  answer = eval(numStr) # 1+2, \"string\"+\"str\" \n",
        "  print(\" %s 결과는 %5.1f입니다. \" %(numStr, answer))  \n",
        "elif select == 2:\n",
        "  num1 = int(input(\"*** 첫번째 숫자를 입력하세요 : \"))  \n",
        "  num2 = int(input(\"*** 두번째 숫자를 입력하세요 : \"))  \n",
        "  for i in range(num1, num2+1):  \n",
        "    answer = answer + i  \n",
        "    print(\" %d+...+%d는 %d입니다. \" %(num1,num2,answer))  \n",
        "else:  \n",
        "  print(\"1또는 2만 입력해야 합니다.\")"
      ],
      "metadata": {
        "colab": {
          "base_uri": "https://localhost:8080/"
        },
        "id": "oE1ihxE45eof",
        "outputId": "704122ef-6bc7-40cf-93eb-a7e22b2def7c"
      },
      "execution_count": null,
      "outputs": [
        {
          "output_type": "stream",
          "name": "stdout",
          "text": [
            "1.입력한 수식 계산 2.두수의 합계: 2\n",
            "*** 첫번째 숫자를 입력하세요 : 9\n",
            "*** 두번째 숫자를 입력하세요 : 14\n",
            " 9+...+14는 9입니다. \n",
            " 9+...+14는 19입니다. \n",
            " 9+...+14는 30입니다. \n",
            " 9+...+14는 42입니다. \n",
            " 9+...+14는 55입니다. \n",
            " 9+...+14는 69입니다. \n"
          ]
        }
      ]
    },
    {
      "cell_type": "markdown",
      "source": [
        "### for&while 반복문"
      ],
      "metadata": {
        "id": "Rzi0PAX4-f63"
      }
    },
    {
      "cell_type": "code",
      "source": [
        "for i in range(0,3,1):  \n",
        "  print(\"안녕!\")"
      ],
      "metadata": {
        "colab": {
          "base_uri": "https://localhost:8080/"
        },
        "id": "lR5Btkjc-l9_",
        "outputId": "ce102368-0586-40d7-a338-5dc2bc4c9522"
      },
      "execution_count": null,
      "outputs": [
        {
          "output_type": "stream",
          "name": "stdout",
          "text": [
            "안녕!\n",
            "안녕!\n",
            "안녕!\n"
          ]
        }
      ]
    },
    {
      "cell_type": "code",
      "source": [
        " for i in [0,3,1]:  \n",
        "  print(\"안녕@\")"
      ],
      "metadata": {
        "colab": {
          "base_uri": "https://localhost:8080/"
        },
        "id": "RRO2deTw-183",
        "outputId": "0d3bae90-feaf-404e-aea4-7e4158eaaee9"
      },
      "execution_count": 77,
      "outputs": [
        {
          "output_type": "stream",
          "name": "stdout",
          "text": [
            "안녕@\n",
            "안녕@\n",
            "안녕@\n"
          ]
        }
      ]
    },
    {
      "cell_type": "code",
      "source": [
        "for i in range(0,3,1):  \n",
        "  for j in range(0,5,1):  \n",
        "    print(\"i:%d, j:%d\" %(i,j))"
      ],
      "metadata": {
        "colab": {
          "base_uri": "https://localhost:8080/"
        },
        "id": "Ua9_Ll6LAlW3",
        "outputId": "0b1351a3-7081-4957-f572-c27b558718a2"
      },
      "execution_count": null,
      "outputs": [
        {
          "output_type": "stream",
          "name": "stdout",
          "text": [
            "i:0, j:0\n",
            "i:0, j:1\n",
            "i:0, j:2\n",
            "i:0, j:3\n",
            "i:0, j:4\n",
            "i:1, j:0\n",
            "i:1, j:1\n",
            "i:1, j:2\n",
            "i:1, j:3\n",
            "i:1, j:4\n",
            "i:2, j:0\n",
            "i:2, j:1\n",
            "i:2, j:2\n",
            "i:2, j:3\n",
            "i:2, j:4\n"
          ]
        }
      ]
    },
    {
      "cell_type": "code",
      "source": [
        "i,j = 0,0  \n",
        "for i in range(2,10,1):\n",
        "  for j in range(1,10,1):  \n",
        "    print(\"%d x %d = %2d\" %(i, j, i*j), end='')  \n",
        "  print(\"\")"
      ],
      "metadata": {
        "colab": {
          "base_uri": "https://localhost:8080/"
        },
        "id": "SA7EMv2RBXrw",
        "outputId": "e73ef8af-a37f-47c4-eb20-b04a078489b3"
      },
      "execution_count": null,
      "outputs": [
        {
          "output_type": "stream",
          "name": "stdout",
          "text": [
            "2 x 1 =  22 x 2 =  42 x 3 =  62 x 4 =  82 x 5 = 102 x 6 = 122 x 7 = 142 x 8 = 162 x 9 = 18\n",
            "3 x 1 =  33 x 2 =  63 x 3 =  93 x 4 = 123 x 5 = 153 x 6 = 183 x 7 = 213 x 8 = 243 x 9 = 27\n",
            "4 x 1 =  44 x 2 =  84 x 3 = 124 x 4 = 164 x 5 = 204 x 6 = 244 x 7 = 284 x 8 = 324 x 9 = 36\n",
            "5 x 1 =  55 x 2 = 105 x 3 = 155 x 4 = 205 x 5 = 255 x 6 = 305 x 7 = 355 x 8 = 405 x 9 = 45\n",
            "6 x 1 =  66 x 2 = 126 x 3 = 186 x 4 = 246 x 5 = 306 x 6 = 366 x 7 = 426 x 8 = 486 x 9 = 54\n",
            "7 x 1 =  77 x 2 = 147 x 3 = 217 x 4 = 287 x 5 = 357 x 6 = 427 x 7 = 497 x 8 = 567 x 9 = 63\n",
            "8 x 1 =  88 x 2 = 168 x 3 = 248 x 4 = 328 x 5 = 408 x 6 = 488 x 7 = 568 x 8 = 648 x 9 = 72\n",
            "9 x 1 =  99 x 2 = 189 x 3 = 279 x 4 = 369 x 5 = 459 x 6 = 549 x 7 = 639 x 8 = 729 x 9 = 81\n"
          ]
        }
      ]
    },
    {
      "cell_type": "code",
      "source": [
        "i = 0  \n",
        "while i<3:  \n",
        "  print(\"%d : while문\" %i)  \n",
        "  i = i+1"
      ],
      "metadata": {
        "colab": {
          "base_uri": "https://localhost:8080/"
        },
        "id": "FsH0GyF_CpTw",
        "outputId": "ddd24b0f-8923-48c6-b303-e456e34a4ef2"
      },
      "execution_count": null,
      "outputs": [
        {
          "output_type": "stream",
          "name": "stdout",
          "text": [
            "0 : while문\n",
            "1 : while문\n",
            "2 : while문\n"
          ]
        }
      ]
    },
    {
      "cell_type": "code",
      "source": [
        "# Q 1부터 10까지 합계를 while, for문으로\n",
        "i, hap = 0,0  \n",
        "i = 1  \n",
        "while i<11:  \n",
        "  hap = hap + i  \n",
        "  i=i+1  \n",
        "    \n",
        "print(\"1부터 10까지의 합계: %d\" %hap)"
      ],
      "metadata": {
        "colab": {
          "base_uri": "https://localhost:8080/"
        },
        "id": "aN1XCECjDGxo",
        "outputId": "0259d710-aa65-409b-a36d-840abb5cc7ef"
      },
      "execution_count": null,
      "outputs": [
        {
          "output_type": "stream",
          "name": "stdout",
          "text": [
            "1부터 10까지의 합계: 55\n"
          ]
        }
      ]
    },
    {
      "cell_type": "code",
      "source": [
        "# Q 1부터 10까지 합계를 for문으로  \n",
        "i, hap = 0,0  \n",
        "i = 1  \n",
        "for i in range(1,11,1):  \n",
        "  hap = hap+i\n",
        "    \n",
        "print(\"1부터 10까지의 합계: %d\" %hap)"
      ],
      "metadata": {
        "colab": {
          "base_uri": "https://localhost:8080/"
        },
        "id": "e5a6yGufDxoA",
        "outputId": "f906ce73-f880-475e-cb34-78fd08a190dd"
      },
      "execution_count": null,
      "outputs": [
        {
          "output_type": "stream",
          "name": "stdout",
          "text": [
            "1부터 10까지의 합계: 55\n"
          ]
        }
      ]
    },
    {
      "cell_type": "code",
      "source": [
        "# while True:  \n",
        "print(\"무한루프ㅠㅠ \", end='')\n"
      ],
      "metadata": {
        "colab": {
          "base_uri": "https://localhost:8080/"
        },
        "id": "fspIiHXKEoKh",
        "outputId": "9acd7f0d-7006-47a4-c8e9-2801e8ad028c"
      },
      "execution_count": null,
      "outputs": [
        {
          "output_type": "stream",
          "name": "stdout",
          "text": [
            "무한루프ㅠㅠ "
          ]
        }
      ]
    },
    {
      "cell_type": "code",
      "source": [
        "# break  \n",
        "for i in range(1,100):  \n",
        "  print(\"for문 %d번 실행\" %i)  \n",
        "  break  \n",
        "print(\"break 빠짐\")"
      ],
      "metadata": {
        "colab": {
          "base_uri": "https://localhost:8080/"
        },
        "id": "LduvjrmYE1jJ",
        "outputId": "230db46d-ae48-4724-e335-5597efe30f05"
      },
      "execution_count": null,
      "outputs": [
        {
          "output_type": "stream",
          "name": "stdout",
          "text": [
            "for문 1번 실행\n",
            "break 빠짐\n"
          ]
        }
      ]
    },
    {
      "cell_type": "code",
      "source": [
        "hap = 0  \n",
        "a,b = 0,0  \n",
        "while True:  \n",
        "  a = int(input(\"덧셈 첫번째 수 입력: \"))  \n",
        "  if a==0:  \n",
        "    break  \n",
        "  b = int(input(\"덧셈 두번째 수 입력: \"))  \n",
        "  hap = a + b  \n",
        "  print(\"%d + %d = %d\" %(a,b,hap))  \n",
        "    \n",
        "print(\"break로 탈출\")"
      ],
      "metadata": {
        "colab": {
          "base_uri": "https://localhost:8080/",
          "height": 565
        },
        "id": "z8tq7C3ZFjNJ",
        "outputId": "acffecc5-3e8e-451c-dd97-fb1be88c3e92"
      },
      "execution_count": 75,
      "outputs": [
        {
          "output_type": "stream",
          "name": "stdout",
          "text": [
            "덧셈 첫번째 수 입력: 10\n",
            "덧셈 두번째 수 입력: 20\n",
            "10 + 20 = 30\n",
            "덧셈 첫번째 수 입력: 306\n",
            "덧셈 두번째 수 입력: 60\n",
            "306 + 60 = 366\n",
            "덧셈 첫번째 수 입력: 507\n",
            "덧셈 두번째 수 입력: 987\n",
            "507 + 987 = 1494\n"
          ]
        },
        {
          "output_type": "error",
          "ename": "KeyboardInterrupt",
          "evalue": "ignored",
          "traceback": [
            "\u001b[0;31m---------------------------------------------------------------------------\u001b[0m",
            "\u001b[0;31mKeyboardInterrupt\u001b[0m                         Traceback (most recent call last)",
            "\u001b[0;32m<ipython-input-75-2c3c4d0e01d8>\u001b[0m in \u001b[0;36m<cell line: 4>\u001b[0;34m()\u001b[0m\n\u001b[1;32m      2\u001b[0m \u001b[0ma\u001b[0m\u001b[0;34m,\u001b[0m\u001b[0mb\u001b[0m \u001b[0;34m=\u001b[0m \u001b[0;36m0\u001b[0m\u001b[0;34m,\u001b[0m\u001b[0;36m0\u001b[0m\u001b[0;34m\u001b[0m\u001b[0;34m\u001b[0m\u001b[0m\n\u001b[1;32m      3\u001b[0m \u001b[0;32mwhile\u001b[0m \u001b[0;32mTrue\u001b[0m\u001b[0;34m:\u001b[0m\u001b[0;34m\u001b[0m\u001b[0;34m\u001b[0m\u001b[0m\n\u001b[0;32m----> 4\u001b[0;31m   \u001b[0ma\u001b[0m \u001b[0;34m=\u001b[0m \u001b[0mint\u001b[0m\u001b[0;34m(\u001b[0m\u001b[0minput\u001b[0m\u001b[0;34m(\u001b[0m\u001b[0;34m\"덧셈 첫번째 수 입력: \"\u001b[0m\u001b[0;34m)\u001b[0m\u001b[0;34m)\u001b[0m\u001b[0;34m\u001b[0m\u001b[0;34m\u001b[0m\u001b[0m\n\u001b[0m\u001b[1;32m      5\u001b[0m   \u001b[0;32mif\u001b[0m \u001b[0ma\u001b[0m\u001b[0;34m==\u001b[0m\u001b[0;36m0\u001b[0m\u001b[0;34m:\u001b[0m\u001b[0;34m\u001b[0m\u001b[0;34m\u001b[0m\u001b[0m\n\u001b[1;32m      6\u001b[0m     \u001b[0;32mbreak\u001b[0m\u001b[0;34m\u001b[0m\u001b[0;34m\u001b[0m\u001b[0m\n",
            "\u001b[0;32m/usr/local/lib/python3.9/dist-packages/ipykernel/kernelbase.py\u001b[0m in \u001b[0;36mraw_input\u001b[0;34m(self, prompt)\u001b[0m\n\u001b[1;32m    849\u001b[0m                 \u001b[0;34m\"raw_input was called, but this frontend does not support input requests.\"\u001b[0m\u001b[0;34m\u001b[0m\u001b[0;34m\u001b[0m\u001b[0m\n\u001b[1;32m    850\u001b[0m             )\n\u001b[0;32m--> 851\u001b[0;31m         return self._input_request(str(prompt),\n\u001b[0m\u001b[1;32m    852\u001b[0m             \u001b[0mself\u001b[0m\u001b[0;34m.\u001b[0m\u001b[0m_parent_ident\u001b[0m\u001b[0;34m,\u001b[0m\u001b[0;34m\u001b[0m\u001b[0;34m\u001b[0m\u001b[0m\n\u001b[1;32m    853\u001b[0m             \u001b[0mself\u001b[0m\u001b[0;34m.\u001b[0m\u001b[0m_parent_header\u001b[0m\u001b[0;34m,\u001b[0m\u001b[0;34m\u001b[0m\u001b[0;34m\u001b[0m\u001b[0m\n",
            "\u001b[0;32m/usr/local/lib/python3.9/dist-packages/ipykernel/kernelbase.py\u001b[0m in \u001b[0;36m_input_request\u001b[0;34m(self, prompt, ident, parent, password)\u001b[0m\n\u001b[1;32m    893\u001b[0m             \u001b[0;32mexcept\u001b[0m \u001b[0mKeyboardInterrupt\u001b[0m\u001b[0;34m:\u001b[0m\u001b[0;34m\u001b[0m\u001b[0;34m\u001b[0m\u001b[0m\n\u001b[1;32m    894\u001b[0m                 \u001b[0;31m# re-raise KeyboardInterrupt, to truncate traceback\u001b[0m\u001b[0;34m\u001b[0m\u001b[0;34m\u001b[0m\u001b[0m\n\u001b[0;32m--> 895\u001b[0;31m                 \u001b[0;32mraise\u001b[0m \u001b[0mKeyboardInterrupt\u001b[0m\u001b[0;34m(\u001b[0m\u001b[0;34m\"Interrupted by user\"\u001b[0m\u001b[0;34m)\u001b[0m \u001b[0;32mfrom\u001b[0m \u001b[0;32mNone\u001b[0m\u001b[0;34m\u001b[0m\u001b[0;34m\u001b[0m\u001b[0m\n\u001b[0m\u001b[1;32m    896\u001b[0m             \u001b[0;32mexcept\u001b[0m \u001b[0mException\u001b[0m \u001b[0;32mas\u001b[0m \u001b[0me\u001b[0m\u001b[0;34m:\u001b[0m\u001b[0;34m\u001b[0m\u001b[0;34m\u001b[0m\u001b[0m\n\u001b[1;32m    897\u001b[0m                 \u001b[0mself\u001b[0m\u001b[0;34m.\u001b[0m\u001b[0mlog\u001b[0m\u001b[0;34m.\u001b[0m\u001b[0mwarning\u001b[0m\u001b[0;34m(\u001b[0m\u001b[0;34m\"Invalid Message:\"\u001b[0m\u001b[0;34m,\u001b[0m \u001b[0mexc_info\u001b[0m\u001b[0;34m=\u001b[0m\u001b[0;32mTrue\u001b[0m\u001b[0;34m)\u001b[0m\u001b[0;34m\u001b[0m\u001b[0;34m\u001b[0m\u001b[0m\n",
            "\u001b[0;31mKeyboardInterrupt\u001b[0m: Interrupted by user"
          ]
        }
      ]
    },
    {
      "cell_type": "code",
      "source": [
        "# continue  \n",
        "hap, i = 0,0  \n",
        "for i in range(1,11):  \n",
        "  if i % 2 == 0:  \n",
        "    print(\"i:%d\" %i)\n",
        "    continue  \n",
        "    hap += i  \n",
        "      \n",
        "print(\"1~10 합계(3의 배수 제외): %d\" %hap)"
      ],
      "metadata": {
        "colab": {
          "base_uri": "https://localhost:8080/"
        },
        "id": "CwUSXyCfGf75",
        "outputId": "449b2303-583d-4f21-effd-dd7ff6d22c3e"
      },
      "execution_count": null,
      "outputs": [
        {
          "output_type": "stream",
          "name": "stdout",
          "text": [
            "i:2\n",
            "i:4\n",
            "i:6\n",
            "i:8\n",
            "i:10\n",
            "1~10 합계(3의 배수 제외): 0\n"
          ]
        }
      ]
    },
    {
      "cell_type": "code",
      "source": [
        "fruits = [\"사과\",\"바나나\",\"체리\"]  \n",
        "for x in fruits:  \n",
        "  if x == \"바나나\":  \n",
        "    continue  \n",
        "    print(x)"
      ],
      "metadata": {
        "id": "hFWcUkx2IJuD"
      },
      "execution_count": 67,
      "outputs": []
    },
    {
      "cell_type": "code",
      "source": [
        "for x in range(6):  \n",
        "  print(x)  \n",
        "else:\n",
        "  print(\"끝\")"
      ],
      "metadata": {
        "colab": {
          "base_uri": "https://localhost:8080/"
        },
        "id": "_iFbSh4GIzwC",
        "outputId": "a9809d81-9f31-4bcf-d867-7dfd78bd8820"
      },
      "execution_count": 66,
      "outputs": [
        {
          "output_type": "stream",
          "name": "stdout",
          "text": [
            "0\n",
            "1\n",
            "2\n",
            "3\n",
            "4\n",
            "5\n",
            "끝\n"
          ]
        }
      ]
    },
    {
      "cell_type": "code",
      "source": [
        "for x in range(6):  \n",
        "  if x == 3: break  \n",
        "  print(x)  \n",
        "else:\n",
        "  print(\"끝\")"
      ],
      "metadata": {
        "colab": {
          "base_uri": "https://localhost:8080/"
        },
        "id": "HjFgUh-UJEHZ",
        "outputId": "844a60f5-4ea3-4387-f5a4-a8f0c2bff83a"
      },
      "execution_count": 68,
      "outputs": [
        {
          "output_type": "stream",
          "name": "stdout",
          "text": [
            "0\n",
            "1\n",
            "2\n"
          ]
        }
      ]
    },
    {
      "cell_type": "code",
      "source": [
        "# for문 루프는 비원줄 수 없음\n",
        "for x in [0,1,2]:  \n",
        "  pass"
      ],
      "metadata": {
        "id": "UWQV6B5wKBfi"
      },
      "execution_count": null,
      "outputs": []
    },
    {
      "cell_type": "code",
      "source": [
        "# 두수를 더하는 함수  \n",
        "def plus(v1,v2):  \n",
        "  result = 0  \n",
        "  result = v1 + v2  \n",
        "  return result  \n",
        "    \n",
        "hap = 0  \n",
        "hap = plus(10,20)  \n",
        "print(\"10+20 plus() 처리 결과는 %d\" %hap)  \n",
        "hap = plus(20,30)  \n",
        "print(\"20+30 plus() 처리 결과는 %d\" %hap)"
      ],
      "metadata": {
        "colab": {
          "base_uri": "https://localhost:8080/"
        },
        "id": "GXc0o3P_Lycy",
        "outputId": "c304ea2a-7f5f-4917-d638-932beb73af42"
      },
      "execution_count": 70,
      "outputs": [
        {
          "output_type": "stream",
          "name": "stdout",
          "text": [
            "10+20 plus() 처리 결과는 30\n",
            "20+30 plus() 처리 결과는 50\n"
          ]
        }
      ]
    },
    {
      "cell_type": "code",
      "source": [
        "# 계산기 코드  \n",
        "def calc(v1,v2,op):  \n",
        "  result = 0  \n",
        "  if op == '+':  \n",
        "    result = v1 + v2  \n",
        "  elif op == '-':  \n",
        "    result = v1 - v2  \n",
        "  elif op == '*':  \n",
        "    result = v1 * v2  \n",
        "  elif op == '/':  \n",
        "    result = v1 / v2  \n",
        "  return result  \n",
        "    \n",
        "rst = 0  \n",
        "var1,var2, opr = 0,0,\"\"  \n",
        "  \n",
        "opr = input(\"(+,-,*,/) 입력: \")  \n",
        "var1 = int(input(\"1번째 수 입력: \"))  \n",
        "var2 = int(input(\"2번째 수 입력: \"))  \n",
        "rst = calc(var1,var2,opr)  \n",
        "print(\"계산기 %d %s %d = %d\" %(var1, opr, var2, rst))"
      ],
      "metadata": {
        "colab": {
          "base_uri": "https://localhost:8080/"
        },
        "id": "fAJX2EnuM7C1",
        "outputId": "a26af42b-6492-4104-ff5c-f45c992e2645"
      },
      "execution_count": 73,
      "outputs": [
        {
          "output_type": "stream",
          "name": "stdout",
          "text": [
            "(+,-,*,/) 입력: +\n",
            "1번째 수 입력: 10\n",
            "2번째 수 입력: 20\n",
            "계산기 10 + 20 = 30\n"
          ]
        }
      ]
    },
    {
      "cell_type": "markdown",
      "source": [
        "# Q 0으로 나누려고하면 메세지 출력 계산 되지 않게, ** 제곱 연산자 추가(숫자1, 연산자, 숫자2) 계산기 만들기"
      ],
      "metadata": {
        "id": "zIj1DlSRQBmK"
      }
    },
    {
      "cell_type": "code",
      "source": [
        "# 전역변수와 지역변수  \n",
        "def func1():  \n",
        "  a = 10 # 지역변수  \n",
        "  print(\"func1()에서 a값 %d\" %a)  \n",
        "    \n",
        "def func2():  \n",
        "  a = 10  \n",
        "  print(\"func2()에서 a값 %d\" %a)  \n",
        "    \n",
        "a = 20 # 전역변수  \n",
        "  \n",
        "func1()  \n",
        "func2()"
      ],
      "metadata": {
        "colab": {
          "base_uri": "https://localhost:8080/"
        },
        "id": "Ice9REbpQpGr",
        "outputId": "217a22fd-6582-4a65-de13-77b48138ce05"
      },
      "execution_count": 74,
      "outputs": [
        {
          "output_type": "stream",
          "name": "stdout",
          "text": [
            "func1()에서 a값 10\n",
            "func2()에서 a값 10\n"
          ]
        }
      ]
    }
  ]
}