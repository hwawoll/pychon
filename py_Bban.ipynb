{
  "nbformat": 4,
  "nbformat_minor": 0,
  "metadata": {
    "colab": {
      "provenance": [],
      "authorship_tag": "ABX9TyOCdhMLUzg7e4Pc3m1FMWME",
      "include_colab_link": true
    },
    "kernelspec": {
      "name": "python3",
      "display_name": "Python 3"
    },
    "language_info": {
      "name": "python"
    }
  },
  "cells": [
    {
      "cell_type": "markdown",
      "metadata": {
        "id": "view-in-github",
        "colab_type": "text"
      },
      "source": [
        "<a href=\"https://colab.research.google.com/github/hwawoll/pychon/blob/main/py_Bban.ipynb\" target=\"_parent\"><img src=\"https://colab.research.google.com/assets/colab-badge.svg\" alt=\"Open In Colab\"/></a>"
      ]
    },
    {
      "cell_type": "code",
      "execution_count": null,
      "metadata": {
        "id": "HbG_k_hNhliJ"
      },
      "outputs": [],
      "source": [
        "[]\n"
      ]
    },
    {
      "cell_type": "markdown",
      "source": [
        "# **CH1 파이썬 문법**"
      ],
      "metadata": {
        "id": "mWosubWJkGJ2"
      }
    },
    {
      "cell_type": "markdown",
      "source": [
        "## 자료형\n",
        "### 숫자형\n",
        "정수 : 123, -20, 0  \n",
        "실수 : 123.45, -4321.5, 6.08e9  \n",
        "8진수 : 0o456, 0o123  \n",
        "16진수 : 0xFF, 0x0D, 0x0A"
      ],
      "metadata": {
        "id": "U4sZTgj6kBzp"
      }
    },
    {
      "cell_type": "markdown",
      "source": [],
      "metadata": {
        "id": "bzfGQFRdkACG"
      }
    },
    {
      "cell_type": "code",
      "source": [
        "a = 10  \n",
        "b = 20  \n",
        "c = a + b  \n",
        "d = b - a  \n",
        "print(c)  \n",
        "print(d)  \n",
        "print(c, d)"
      ],
      "metadata": {
        "colab": {
          "base_uri": "https://localhost:8080/"
        },
        "id": "4N4gg3dviJfm",
        "outputId": "08e64c19-7d76-4bdc-b038-0d0516df4b0e"
      },
      "execution_count": 31,
      "outputs": [
        {
          "output_type": "stream",
          "name": "stdout",
          "text": [
            "30\n",
            "10\n",
            "30 10\n"
          ]
        }
      ]
    },
    {
      "cell_type": "code",
      "source": [
        "a = 52  \n",
        "b = 10  \n",
        "# 나눗셈  \n",
        "c = a/b  \n",
        "d = a//b # 몫   \n",
        "e = a%b # 나머지  \n",
        "# 곱셈  \n",
        "f = a*b  \n",
        "g = a**b # 제곱  \n",
        "print(c,d,e,f,g)\n"
      ],
      "metadata": {
        "colab": {
          "base_uri": "https://localhost:8080/"
        },
        "id": "6mZmpbU8ktWo",
        "outputId": "7387ae9e-8b20-4a9e-da29-fed8bde8b64b"
      },
      "execution_count": 32,
      "outputs": [
        {
          "output_type": "stream",
          "name": "stdout",
          "text": [
            "5.2 5 2 520 144555105949057024\n"
          ]
        }
      ]
    },
    {
      "cell_type": "markdown",
      "source": [
        "#### 문자열\n",
        "1. 큰 따옴표 : \"Hello World! it's\"  \n",
        "2. 작은 따옴표 : '대한민국'  \n",
        "3. 큰 따옴표 3개 : \"\"\"Hello!\"\"\"\n",
        "4. 작은 따옴표 3개 : \n",
        "'''life is too short, You need python. '''"
      ],
      "metadata": {
        "id": "BGSGD_dIm1vk"
      }
    },
    {
      "cell_type": "markdown",
      "source": [
        "####변수\n",
        "* 문자 또는 밑줄로 시작 (beta, _kim)  \n",
        "* 대 소문자를 구분한다.(sum, Sum, SUM)  \n",
        "* 영문자, 숫자, 밑줄(a-z, 0-9, _)  \n",
        "* 파이썬 키워드는 사용 불가"
      ],
      "metadata": {
        "id": "egfg4m2Ioe2_"
      }
    },
    {
      "cell_type": "code",
      "source": [
        "myName = \"Sangho Lee\" # 카멜  \n",
        "my_name = \"이상호\" # 스네이크  \n",
        "MyName = \"kiki\" #파스칼  \n",
        "_my_name = \"korea\"  \n",
        "MYNAME = \"God is love\"  \n",
        "my2name = \"12345\"  \n",
        "# 2myname = \"9876\"  \n",
        "# my-name = \"minhle\"  \n",
        "# my name = \"kiki\"  \n",
        "myStr = '123'# str  \n",
        "myNum = 123 # int  \n",
        "  \n",
        "print(myStr, myNum)  \n",
        "print(type(myStr))  \n",
        "print(type(myNum))"
      ],
      "metadata": {
        "id": "K4TNgUhVtmHk"
      },
      "execution_count": null,
      "outputs": []
    },
    {
      "cell_type": "markdown",
      "source": [
        "####여러개 변수 할당"
      ],
      "metadata": {
        "id": "wBNNBTtRv-p0"
      }
    },
    {
      "cell_type": "code",
      "source": [
        "x,y,z = \"포도\" , \"딸기\" , \"수박\"  \n",
        "print(x)  \n",
        "print(y)  \n",
        "print(z)"
      ],
      "metadata": {
        "id": "E8SAzRQUwFUe"
      },
      "execution_count": null,
      "outputs": []
    },
    {
      "cell_type": "code",
      "source": [
        "a = b = c = \"오렌지\"  \n",
        "print(a)  \n",
        "print(b)  \n",
        "print(c)"
      ],
      "metadata": {
        "id": "CJGj42AQwcMI"
      },
      "execution_count": null,
      "outputs": []
    },
    {
      "cell_type": "code",
      "source": [
        "fruits = [\"포도\" , \"딸기\" , \"수박\"]  \n",
        "x,y,z = fruits  \n",
        "print(x)  \n",
        "print(y)  \n",
        "print(z)"
      ],
      "metadata": {
        "id": "IkK3d6m9wxqy"
      },
      "execution_count": null,
      "outputs": []
    },
    {
      "cell_type": "code",
      "source": [
        "x = \"Life\"  \n",
        "y = \"is\"  \n",
        "z = \"Beautiful\"  \n",
        "print(x,y,z)\n",
        "print(x+y+z) # 문자 배열시 띄어쓰기"
      ],
      "metadata": {
        "id": "Un1JDJfOxltT"
      },
      "execution_count": null,
      "outputs": []
    },
    {
      "cell_type": "code",
      "source": [
        "a = 1  \n",
        "b = 2  \n",
        "c = 3  \n",
        "print(a,b,c)  \n",
        "print(a+b+c)"
      ],
      "metadata": {
        "id": "agb8WtJZyTm2"
      },
      "execution_count": null,
      "outputs": []
    },
    {
      "cell_type": "markdown",
      "source": [
        "#### 데이터 유형\n",
        "+ 텍스트  \n",
        "+ 숫자  \n",
        "+ 불(bool)"
      ],
      "metadata": {
        "id": "nF6P6WYlypt1"
      }
    },
    {
      "cell_type": "code",
      "source": [
        "a = 100  \n",
        "b = 200  \n",
        "sum = a + b  \n",
        "Sum = b - a  \n",
        "SUM = a*b  \n",
        "sum2 = b/a  \n",
        "print(sum)  \n",
        "print(Sum)  \n",
        "print(SUM)  \n",
        "print(sum2)  \n",
        "print(a, '+', b, '=', sum)\n",
        "print(b, '-', a, '=', Sum)  \n",
        "print(a,'*',b, '=', SUM)  \n",
        "print(b,'/',a, '=', sum2)"
      ],
      "metadata": {
        "colab": {
          "base_uri": "https://localhost:8080/"
        },
        "id": "ZFv65aekzKvK",
        "outputId": "fc9bdde5-00d1-4764-d346-0214834a6519"
      },
      "execution_count": 29,
      "outputs": [
        {
          "output_type": "stream",
          "name": "stdout",
          "text": [
            "300\n",
            "100\n",
            "20000\n",
            "2.0\n",
            "100 + 200 = 300\n",
            "200 - 100 = 100\n",
            "100 * 200 = 20000\n",
            "200 / 100 = 2.0\n"
          ]
        }
      ]
    },
    {
      "cell_type": "markdown",
      "source": [
        "#### input() 함수 이용한 계산기기"
      ],
      "metadata": {
        "id": "pxg1jdVyAZGd"
      }
    },
    {
      "cell_type": "code",
      "source": [
        "a = int(input(\"첫번째 숫자를 입력하세요: \"))  \n",
        "b = int(input(\"두번째 숫자를 입력하세요: \"))  \n",
        "result = a + b  \n",
        "print(a, \"+\", b, \"=\", result)  \n",
        "print(a, \"-\", b, \"=\", result)  \n",
        "print(a, \"*\", b, \"=\", result)  \n",
        "print(a, \"/\", b, \"=\", result)"
      ],
      "metadata": {
        "colab": {
          "base_uri": "https://localhost:8080/"
        },
        "id": "4u0TZeXWAjKK",
        "outputId": "6b71fac6-e628-4242-f473-89ab7901fb93"
      },
      "execution_count": 33,
      "outputs": [
        {
          "output_type": "stream",
          "name": "stdout",
          "text": [
            "첫번째 숫자를 입력하세요: 10\n",
            "두번째 숫자를 입력하세요: 2\n",
            "10 + 2 = 12\n",
            "10 - 2 = 12\n",
            "10 * 2 = 12\n",
            "10 / 2 = 12\n"
          ]
        }
      ]
    },
    {
      "cell_type": "code",
      "source": [
        "# 제곱, 몫, 나머지 계산\n",
        "a = int(input(\"첫번째 숫자를 입력하세요: \"))  \n",
        "b = int(input(\"두번째 숫자를 입력하세요: \"))  \n",
        "result = a**b  \n",
        "Result = a//b  \n",
        "RESULT = a%b  \n",
        "print(a, \"**\", b, \"=\", result)  \n",
        "print(a, \"//\", b, \"=\", Result)  \n",
        "print(a, \"%\", b, \"=\", RESULT)"
      ],
      "metadata": {
        "colab": {
          "base_uri": "https://localhost:8080/"
        },
        "id": "NXl8s4ZxBw3j",
        "outputId": "73f38ead-5a87-47f2-8369-24cd6d548757"
      },
      "execution_count": 35,
      "outputs": [
        {
          "output_type": "stream",
          "name": "stdout",
          "text": [
            "첫번째 숫자를 입력하세요: 100\n",
            "두번째 숫자를 입력하세요: 4\n",
            "100 ** 4 = 100000000\n",
            "100 // 4 = 25\n",
            "100 % 4 = 0\n"
          ]
        }
      ]
    },
    {
      "cell_type": "code",
      "source": [
        "num1 = input(\"숫자입력1: \")  \n",
        "num2 = input(\"숫자입력2: \")  \n",
        "result = num1 + num2  \n",
        "print(type(num1))  \n",
        "print(num1, \"+\", num2, \"=\", result)"
      ],
      "metadata": {
        "colab": {
          "base_uri": "https://localhost:8080/"
        },
        "id": "qnqF_NoSDjKe",
        "outputId": "7847785d-3357-4ed9-d405-13e63e6f7c12"
      },
      "execution_count": 37,
      "outputs": [
        {
          "output_type": "stream",
          "name": "stdout",
          "text": [
            "숫자입력1: 100\n",
            "숫자입력2: 200\n",
            "<class 'str'>\n",
            "100 + 200 = 100200\n"
          ]
        }
      ]
    },
    {
      "cell_type": "markdown",
      "source": [
        "전화번호, 이름, 무게를 입력 받아서 출력하기  \n",
        "입력한 내용은 이름 \"ㅁㅁ\", 전화번호 \"00\" 입니다.  \n",
        "무게는 입력한 g수 x 10원 = 산출  \n",
        "금액 출력"
      ],
      "metadata": {
        "id": "WwjfhJcUEZcJ"
      }
    },
    {
      "cell_type": "code",
      "source": [
        "a = int(input(\"전화번호를 입력하세요: \"))  \n",
        "b = int(input(\"이름을 입력하세요: \"))  \n",
        "c = int(input(\"무게를를 입력하세요: \"))  \n",
        "result1 = a  \n",
        "reslut2 = b  \n",
        "result3 = c\n",
        "print(result1, \"+\", result2, \"+\", result3, \"=\", result3*10)"
      ],
      "metadata": {
        "id": "cCkb_oeiFJ_F"
      },
      "execution_count": null,
      "outputs": []
    },
    {
      "cell_type": "code",
      "source": [],
      "metadata": {
        "id": "eICzOWNxEw95"
      },
      "execution_count": null,
      "outputs": []
    }
  ]
}