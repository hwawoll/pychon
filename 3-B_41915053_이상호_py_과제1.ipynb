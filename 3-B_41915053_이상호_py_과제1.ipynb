{
  "nbformat": 4,
  "nbformat_minor": 0,
  "metadata": {
    "colab": {
      "provenance": [],
      "authorship_tag": "ABX9TyPhhUcxfKQw30gsMXELWvvg",
      "include_colab_link": true
    },
    "kernelspec": {
      "name": "python3",
      "display_name": "Python 3"
    },
    "language_info": {
      "name": "python"
    }
  },
  "cells": [
    {
      "cell_type": "markdown",
      "metadata": {
        "id": "view-in-github",
        "colab_type": "text"
      },
      "source": [
        "<a href=\"https://colab.research.google.com/github/hwawoll/pychon/blob/main/3-B_41915053_%EC%9D%B4%EC%83%81%ED%98%B8_py_%EA%B3%BC%EC%A0%9C1.ipynb\" target=\"_parent\"><img src=\"https://colab.research.google.com/assets/colab-badge.svg\" alt=\"Open In Colab\"/></a>"
      ]
    },
    {
      "cell_type": "markdown",
      "source": [
        "### 계산기 코드를 작성하세요.\n",
        "\n",
        "조건\n",
        "\n",
        "0으로 나누려고 하면 메시지를 출력하고 계산 되지 않게, \n",
        "\n",
        "+,-,*,/,**제곱 연산자 추가 (숫자1, 연산자, 숫자 2) 입력 형태로 \n",
        "\n",
        "함수, break, continue 활용"
      ],
      "metadata": {
        "id": "olz4xNgqj6fo"
      }
    },
    {
      "cell_type": "code",
      "source": [
        "# 계산기 함수\n",
        "def calculator():\n",
        "    while True:\n",
        "        try:\n",
        "            num1 = float(input(\"숫자 1을 입력하세요: \"))\n",
        "            operator = input(\"연산자를 입력하세요 (+, -, *, /, ** 중 하나): \")\n",
        "            num2 = float(input(\"숫자 2를 입력하세요: \"))\n",
        "\n",
        "            if operator == '+':\n",
        "                result = num1 + num2\n",
        "            elif operator == '-':\n",
        "                result = num1 - num2\n",
        "            elif operator == '*':\n",
        "                result = num1 * num2\n",
        "            elif operator == '/':\n",
        "                if num2 == 0:\n",
        "                    print(\"0으로 나눌 수 없습니다.\")\n",
        "                    continue\n",
        "                result = num1 / num2\n",
        "            elif operator == '**':\n",
        "                result = num1 ** num2\n",
        "            else:\n",
        "                print(\"잘못된 연산자입니다. 다시 입력해주세요.\")\n",
        "                continue\n",
        "\n",
        "            print(\"결과: \", result)\n",
        "            \n",
        "            # 계산을 더 이상 진행할 것인지 묻기\n",
        "            restart = input(\"계속하려면 'yes'를, 종료하려면 'no'를 입력하세요: \")\n",
        "            if restart.lower() == 'no':\n",
        "                print(\"계산기를 종료합니다.\")\n",
        "                break\n",
        "        except ValueError:\n",
        "            print(\"잘못된 입력입니다. 숫자를 다시 입력해주세요.\")\n",
        "\n",
        "# 계산기 실행\n",
        "calculator()"
      ],
      "metadata": {
        "colab": {
          "base_uri": "https://localhost:8080/"
        },
        "id": "TxVMrQeCj-xs",
        "outputId": "e6c94f46-1b2f-458e-f2cd-5ef760e2223a"
      },
      "execution_count": 2,
      "outputs": [
        {
          "output_type": "stream",
          "name": "stdout",
          "text": [
            "숫자 1을 입력하세요: 0\n",
            "연산자를 입력하세요 (+, -, *, /, ** 중 하나): +\n",
            "숫자 2를 입력하세요: 0\n",
            "결과:  0.0\n",
            "계속하려면 'yes'를, 종료하려면 'no'를 입력하세요: 6\n",
            "숫자 1을 입력하세요: *\n",
            "잘못된 입력입니다. 숫자를 다시 입력해주세요.\n",
            "숫자 1을 입력하세요: 0\n",
            "연산자를 입력하세요 (+, -, *, /, ** 중 하나): **\n",
            "숫자 2를 입력하세요: 3\n",
            "결과:  0.0\n",
            "계속하려면 'yes'를, 종료하려면 'no'를 입력하세요: 9\n",
            "숫자 1을 입력하세요: **\n",
            "잘못된 입력입니다. 숫자를 다시 입력해주세요.\n",
            "숫자 1을 입력하세요: 9\n",
            "연산자를 입력하세요 (+, -, *, /, ** 중 하나): **\n",
            "숫자 2를 입력하세요: 0\n",
            "결과:  1.0\n",
            "계속하려면 'yes'를, 종료하려면 'no'를 입력하세요: no\n",
            "계산기를 종료합니다.\n"
          ]
        }
      ]
    }
  ]
}