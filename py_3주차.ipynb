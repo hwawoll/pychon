{
  "nbformat": 4,
  "nbformat_minor": 0,
  "metadata": {
    "colab": {
      "provenance": [],
      "authorship_tag": "ABX9TyNDI9k6kmMdn80IPF/AOrDH",
      "include_colab_link": true
    },
    "kernelspec": {
      "name": "python3",
      "display_name": "Python 3"
    },
    "language_info": {
      "name": "python"
    }
  },
  "cells": [
    {
      "cell_type": "markdown",
      "metadata": {
        "id": "view-in-github",
        "colab_type": "text"
      },
      "source": [
        "<a href=\"https://colab.research.google.com/github/hwawoll/pychon/blob/main/py_3%EC%A3%BC%EC%B0%A8.ipynb\" target=\"_parent\"><img src=\"https://colab.research.google.com/assets/colab-badge.svg\" alt=\"Open In Colab\"/></a>"
      ]
    },
    {
      "cell_type": "markdown",
      "source": [
        "# CH3. 자료형  \n",
        "  \n",
        "## 1. 인덱스와 슬라이싱  "
      ],
      "metadata": {
        "id": "7HRLditqp8mo"
      }
    },
    {
      "cell_type": "code",
      "source": [
        "L = [0,1,2,3,4,5,6,7,8,9]  \n",
        "print(L[1])"
      ],
      "metadata": {
        "colab": {
          "base_uri": "https://localhost:8080/"
        },
        "id": "FjBr-nmxqcsY",
        "outputId": "a34db8fc-78b2-4ffd-b808-0fa6c2b094a0"
      },
      "execution_count": 11,
      "outputs": [
        {
          "output_type": "stream",
          "name": "stdout",
          "text": [
            "1\n"
          ]
        }
      ]
    },
    {
      "cell_type": "code",
      "source": [
        "L = [0,1,2,3,4,5,6,7,8,9]  \n",
        "print(L[-1])"
      ],
      "metadata": {
        "colab": {
          "base_uri": "https://localhost:8080/"
        },
        "id": "7oHEvmfWrl1W",
        "outputId": "f906c0f0-8a9c-417f-ba85-b6f5944395b5"
      },
      "execution_count": 24,
      "outputs": [
        {
          "output_type": "stream",
          "name": "stdout",
          "text": [
            "9\n"
          ]
        }
      ]
    },
    {
      "cell_type": "code",
      "source": [
        "L = [0,1,2,3,4,5,6,7,8,9]  \n",
        "print(L[0:9:2])"
      ],
      "metadata": {
        "colab": {
          "base_uri": "https://localhost:8080/"
        },
        "id": "UV8vMFGqq3E4",
        "outputId": "84168332-78bc-433d-cc93-678b6806dc1c"
      },
      "execution_count": 21,
      "outputs": [
        {
          "output_type": "stream",
          "name": "stdout",
          "text": [
            "[0, 2, 4, 6, 8]\n"
          ]
        }
      ]
    },
    {
      "cell_type": "code",
      "source": [
        "L = [0,1,2,3,4,5,6,7,8,9]  \n",
        "print(len(L))  \n",
        "print(L[len(L)-1])"
      ],
      "metadata": {
        "colab": {
          "base_uri": "https://localhost:8080/"
        },
        "id": "ef9qMoPgrRgL",
        "outputId": "4336ed48-38ae-47f8-f219-77016324a9b7"
      },
      "execution_count": 25,
      "outputs": [
        {
          "output_type": "stream",
          "name": "stdout",
          "text": [
            "10\n",
            "9\n"
          ]
        }
      ]
    },
    {
      "cell_type": "code",
      "source": [
        "L = [0,1,2,3,4,5,6,7,8,9]  \n",
        "L[0] = 99  \n",
        "L[9] = '가나다'  \n",
        "L[1] = [1,2,3]  \n",
        "print(L)  \n",
        "print(L[9])"
      ],
      "metadata": {
        "colab": {
          "base_uri": "https://localhost:8080/"
        },
        "id": "5kcU1msqr5CK",
        "outputId": "8667792e-756b-45b0-8449-7dd47374f759"
      },
      "execution_count": 29,
      "outputs": [
        {
          "output_type": "stream",
          "name": "stdout",
          "text": [
            "[99, 1, 2, 3, 4, 5, 6, 7, 8, '가나다']\n",
            "가나다\n"
          ]
        }
      ]
    },
    {
      "cell_type": "code",
      "source": [
        "a = [1,2,3]  \n",
        "b = [4,5,6]  \n",
        "c = a+b  \n",
        "print(a+b)  \n",
        "print(c)  \n",
        "print(a*3)"
      ],
      "metadata": {
        "colab": {
          "base_uri": "https://localhost:8080/"
        },
        "id": "hX5AlWZ1smgx",
        "outputId": "3473b873-5f4c-4615-a2bd-d2a1c81a3a58"
      },
      "execution_count": 31,
      "outputs": [
        {
          "output_type": "stream",
          "name": "stdout",
          "text": [
            "[1, 2, 3, 4, 5, 6]\n",
            "[1, 2, 3, 4, 5, 6]\n",
            "[1, 2, 3, 1, 2, 3, 1, 2, 3]\n"
          ]
        }
      ]
    },
    {
      "cell_type": "code",
      "source": [
        "L = [1,2,3,4,5]  \n",
        "print(L)  \n",
        "L.append(6) #리스트 뒤에 추가  \n",
        "print(L)  \n",
        "L.remove(3) #해당되는 요소값을 삭제  \n",
        "print(L)"
      ],
      "metadata": {
        "colab": {
          "base_uri": "https://localhost:8080/"
        },
        "id": "3aiNZ65ps73O",
        "outputId": "19dc3a37-ee52-476b-af00-0719c108ffda"
      },
      "execution_count": 34,
      "outputs": [
        {
          "output_type": "stream",
          "name": "stdout",
          "text": [
            "[1, 2, 3, 4, 5]\n",
            "[1, 2, 3, 4, 5, 6]\n",
            "[1, 2, 4, 5, 6]\n"
          ]
        }
      ]
    },
    {
      "cell_type": "code",
      "source": [
        "k = ['a','b','c','d']  \n",
        "k.remove('d')  \n",
        "print(k)"
      ],
      "metadata": {
        "colab": {
          "base_uri": "https://localhost:8080/"
        },
        "id": "P2BaPiUXtrwF",
        "outputId": "56e8f73c-abc6-48e4-d73f-1cd568ce89d2"
      },
      "execution_count": 35,
      "outputs": [
        {
          "output_type": "stream",
          "name": "stdout",
          "text": [
            "['a', 'b', 'c']\n"
          ]
        }
      ]
    },
    {
      "cell_type": "code",
      "source": [
        "k = \"God is love!\"  \n",
        "print(k[:3])  \n",
        "print(k[6:])  \n",
        "print(k[-8:-2])"
      ],
      "metadata": {
        "colab": {
          "base_uri": "https://localhost:8080/"
        },
        "id": "kj4GmLX7wuGi",
        "outputId": "e6e3d4be-c533-4dbd-ec2a-774a71b50def"
      },
      "execution_count": 40,
      "outputs": [
        {
          "output_type": "stream",
          "name": "stdout",
          "text": [
            "God\n",
            " love!\n",
            "is lov\n"
          ]
        }
      ]
    },
    {
      "cell_type": "code",
      "source": [
        "k = \" God is love! \"  \n",
        "print(k.upper())  \n",
        "print(k.lower())  \n",
        "print(k.strip())"
      ],
      "metadata": {
        "colab": {
          "base_uri": "https://localhost:8080/"
        },
        "id": "uE3W8aDuxlz-",
        "outputId": "fa05d8d6-8b7e-4e4e-ff90-4798a29673bf"
      },
      "execution_count": 44,
      "outputs": [
        {
          "output_type": "stream",
          "name": "stdout",
          "text": [
            " GOD IS LOVE! \n",
            " god is love! \n",
            "God is love!\n"
          ]
        }
      ]
    },
    {
      "cell_type": "code",
      "source": [
        "a = \" God, is, love! \"  \n",
        "print(a.split(\",\"))"
      ],
      "metadata": {
        "colab": {
          "base_uri": "https://localhost:8080/"
        },
        "id": "vgCndX3jyOvh",
        "outputId": "5440de68-4861-4855-deb1-1ff1700c227d"
      },
      "execution_count": 47,
      "outputs": [
        {
          "output_type": "stream",
          "name": "stdout",
          "text": [
            "[' God', ' is', ' love! ']\n"
          ]
        }
      ]
    },
    {
      "cell_type": "code",
      "source": [
        "a = [\"apple\",\"banana\",\"cherry\"]  \n",
        "a.append(\"orange\") # 맨뒤에 추가  \n",
        "print(a)"
      ],
      "metadata": {
        "colab": {
          "base_uri": "https://localhost:8080/"
        },
        "id": "z6kJX1Ofy35I",
        "outputId": "32aaa4bb-3862-46c7-8540-ed558dcbd4fb"
      },
      "execution_count": 48,
      "outputs": [
        {
          "output_type": "stream",
          "name": "stdout",
          "text": [
            "['apple', 'banana', 'cherry', 'orange']\n"
          ]
        }
      ]
    },
    {
      "cell_type": "code",
      "source": [
        "a = [\"apple\",\"banana\",\"cherry\"]  \n",
        "a.insert(1,\"orange\") # 지정한 곳에 삽입  \n",
        "print(a)"
      ],
      "metadata": {
        "colab": {
          "base_uri": "https://localhost:8080/"
        },
        "id": "Wxbapc8WzUv3",
        "outputId": "f0417527-a0cb-42ef-c453-97c2f43b0e8d"
      },
      "execution_count": 50,
      "outputs": [
        {
          "output_type": "stream",
          "name": "stdout",
          "text": [
            "['apple', 'orange', 'banana', 'cherry']\n"
          ]
        }
      ]
    },
    {
      "cell_type": "code",
      "source": [
        "a = [\"apple\",\"banana\",\"cherry\"]  \n",
        "a.remove(\"banana\")  \n",
        "print(a)"
      ],
      "metadata": {
        "colab": {
          "base_uri": "https://localhost:8080/"
        },
        "id": "ynF-BVLjzzBd",
        "outputId": "d16a8f3d-0c27-4925-d010-3869844b0ec1"
      },
      "execution_count": 51,
      "outputs": [
        {
          "output_type": "stream",
          "name": "stdout",
          "text": [
            "['apple', 'cherry']\n"
          ]
        }
      ]
    },
    {
      "cell_type": "code",
      "source": [
        "a = [\"apple\",\"banana\",\"cherry\"]  \n",
        "a.pop() # 지정을 하지 않으면 맨 뒤 삭제  \n",
        "print(a)  \n",
        "a.pop(1) # 지정된 값 삭제  \n",
        "print(a)"
      ],
      "metadata": {
        "colab": {
          "base_uri": "https://localhost:8080/"
        },
        "id": "R7oHtNklz-Qa",
        "outputId": "887e6c8b-e7dd-476a-e196-b0e74a75da35"
      },
      "execution_count": 56,
      "outputs": [
        {
          "output_type": "stream",
          "name": "stdout",
          "text": [
            "['apple', 'banana']\n",
            "['apple']\n"
          ]
        }
      ]
    },
    {
      "cell_type": "code",
      "source": [
        "a = [\"apple\",\"banana\",\"cherry\"]  \n",
        "del a[0]  \n",
        "print(a)  \n",
        "a.clear() # del a  \n",
        "print(a)"
      ],
      "metadata": {
        "colab": {
          "base_uri": "https://localhost:8080/"
        },
        "id": "xHAVVRtd0qeW",
        "outputId": "ed437987-ad35-4b53-fb22-f3bf4d600cd0"
      },
      "execution_count": 59,
      "outputs": [
        {
          "output_type": "stream",
          "name": "stdout",
          "text": [
            "['banana', 'cherry']\n",
            "[]\n"
          ]
        }
      ]
    },
    {
      "cell_type": "code",
      "source": [
        "fruit = [\"apple\",\"banana\",\"cherry\"]  \n",
        "for x in fruit:  \n",
        "  print(x)"
      ],
      "metadata": {
        "colab": {
          "base_uri": "https://localhost:8080/"
        },
        "id": "WGdTzPUc1Dat",
        "outputId": "3ba6a54b-9955-46a6-fdc4-888967c68412"
      },
      "execution_count": 61,
      "outputs": [
        {
          "output_type": "stream",
          "name": "stdout",
          "text": [
            "apple\n",
            "banana\n",
            "cherry\n"
          ]
        }
      ]
    },
    {
      "cell_type": "code",
      "source": [
        "fruit = [\"apple\",\"banana\",\"cherry\"]  \n",
        "for i in range(len(fruit)):  \n",
        "  print(fruit)"
      ],
      "metadata": {
        "colab": {
          "base_uri": "https://localhost:8080/"
        },
        "id": "gJxmc06K1kN_",
        "outputId": "62a0e92d-3cfb-4dda-ac07-22e61ab01191"
      },
      "execution_count": 62,
      "outputs": [
        {
          "output_type": "stream",
          "name": "stdout",
          "text": [
            "['apple', 'banana', 'cherry']\n",
            "['apple', 'banana', 'cherry']\n",
            "['apple', 'banana', 'cherry']\n"
          ]
        }
      ]
    },
    {
      "cell_type": "markdown",
      "source": [
        "#### SORT"
      ],
      "metadata": {
        "id": "1exOGnzR15v1"
      }
    },
    {
      "cell_type": "code",
      "source": [
        "a = [5,3,6,8,1,9,0]  \n",
        "a.sort()  \n",
        "print(a)\n"
      ],
      "metadata": {
        "colab": {
          "base_uri": "https://localhost:8080/"
        },
        "id": "j8P3Q3mP14Z3",
        "outputId": "58f8b025-9b89-464d-fb2f-4c0ee063820e"
      },
      "execution_count": 63,
      "outputs": [
        {
          "output_type": "stream",
          "name": "stdout",
          "text": [
            "[0, 1, 3, 5, 6, 8, 9]\n"
          ]
        }
      ]
    },
    {
      "cell_type": "code",
      "source": [
        "a = [5,3,6,8,1,9,0,2,4,7]  \n",
        "a.sort(reverse = True)  \n",
        "print(a)  \n",
        "a.sort()  \n",
        "print(a)"
      ],
      "metadata": {
        "colab": {
          "base_uri": "https://localhost:8080/"
        },
        "id": "mBEyiFTi2R-B",
        "outputId": "322487ec-6f3a-42fd-b1b2-26801c52e391"
      },
      "execution_count": 65,
      "outputs": [
        {
          "output_type": "stream",
          "name": "stdout",
          "text": [
            "[9, 8, 7, 6, 5, 4, 3, 2, 1, 0]\n",
            "[0, 1, 2, 3, 4, 5, 6, 7, 8, 9]\n"
          ]
        }
      ]
    },
    {
      "cell_type": "code",
      "source": [
        "fruit = [\"banana\",\"apple\",\"Kiwi\",\"cherry\",\"Orange\"]  \n",
        "fruit.sort()  \n",
        "print(fruit)  \n",
        "fruit.sort(key = str.lower) # 대소문자 구분 없이 정렬  \n",
        "print(fruit)  \n",
        "fruit.reverse() # 항목의 순서를 반대로 바꿈  \n",
        "print(fruit)"
      ],
      "metadata": {
        "colab": {
          "base_uri": "https://localhost:8080/"
        },
        "id": "UpzB2VIA23EJ",
        "outputId": "f84d2266-9485-4f73-b41f-030fdb366587"
      },
      "execution_count": 69,
      "outputs": [
        {
          "output_type": "stream",
          "name": "stdout",
          "text": [
            "['Kiwi', 'Orange', 'apple', 'banana', 'cherry']\n",
            "['apple', 'banana', 'cherry', 'Kiwi', 'Orange']\n",
            "['Orange', 'Kiwi', 'cherry', 'banana', 'apple']\n"
          ]
        }
      ]
    },
    {
      "cell_type": "code",
      "source": [
        "# list 복사  \n",
        "fruit = [\"banana\",\"apple\",\"Kiwi\",\"cherry\",\"Orange\"]  \n",
        "myList = fruit.copy()  \n",
        "print(myList)  \n",
        "cpList = list(fruit)  \n",
        "print(cpList)"
      ],
      "metadata": {
        "colab": {
          "base_uri": "https://localhost:8080/"
        },
        "id": "F-KLMNLV4KlJ",
        "outputId": "5bc1d153-59b1-4f51-debe-5a2e81df43d7"
      },
      "execution_count": 70,
      "outputs": [
        {
          "output_type": "stream",
          "name": "stdout",
          "text": [
            "['banana', 'apple', 'Kiwi', 'cherry', 'Orange']\n",
            "['banana', 'apple', 'Kiwi', 'cherry', 'Orange']\n"
          ]
        }
      ]
    },
    {
      "cell_type": "markdown",
      "source": [
        "### 2. Tuple"
      ],
      "metadata": {
        "id": "a-Dqxe7x5Rfy"
      }
    },
    {
      "cell_type": "code",
      "source": [
        "l = [1,2,3]  \n",
        "t = (4,5,6)  \n",
        "l[0] = 5  \n",
        "print(l)  \n",
        "# t[0] = 1  \n",
        "print(t)"
      ],
      "metadata": {
        "colab": {
          "base_uri": "https://localhost:8080/"
        },
        "id": "cpKjLVQV5jPC",
        "outputId": "d50b93fc-de4e-43ac-ec0e-d4afde840dc1"
      },
      "execution_count": 72,
      "outputs": [
        {
          "output_type": "stream",
          "name": "stdout",
          "text": [
            "[5, 2, 3]\n",
            "(4, 5, 6)\n"
          ]
        }
      ]
    },
    {
      "cell_type": "code",
      "source": [
        "f = [\"banana\",\"apple\",\"Kiwi\",\"cherry\",\"Orange\"]  \n",
        "print(len(f))"
      ],
      "metadata": {
        "colab": {
          "base_uri": "https://localhost:8080/"
        },
        "id": "niEmrnts6F6k",
        "outputId": "9bb84fef-af34-4bb7-8503-637c6adebea2"
      },
      "execution_count": 74,
      "outputs": [
        {
          "output_type": "stream",
          "name": "stdout",
          "text": [
            "5\n"
          ]
        }
      ]
    },
    {
      "cell_type": "code",
      "source": [
        "t = (\"apple\",)  \n",
        "print(t)  \n",
        "print(type(t))  \n",
        "f = (\"banana\") # 튜플로 인식하기 위해서는 \",\" 필요  \n",
        "print(f)  \n",
        "print(type(f))"
      ],
      "metadata": {
        "colab": {
          "base_uri": "https://localhost:8080/"
        },
        "id": "_gPHL8Ee6S3s",
        "outputId": "1c1f830b-c7ef-440c-d21b-173e5394db53"
      },
      "execution_count": 80,
      "outputs": [
        {
          "output_type": "stream",
          "name": "stdout",
          "text": [
            "('apple',)\n",
            "<class 'tuple'>\n",
            "banana\n",
            "<class 'str'>\n"
          ]
        }
      ]
    },
    {
      "cell_type": "code",
      "source": [
        "f = [\"banana\",\"apple\",\"Kiwi\",\"cherry\",\"Orange\"]  \n",
        "print(f[:4])  \n",
        "print(f[2:])"
      ],
      "metadata": {
        "colab": {
          "base_uri": "https://localhost:8080/"
        },
        "id": "v4n3HB4v7aqA",
        "outputId": "9d0ab2df-b215-4253-f4c3-39a26e3074f1"
      },
      "execution_count": 82,
      "outputs": [
        {
          "output_type": "stream",
          "name": "stdout",
          "text": [
            "['banana', 'apple', 'Kiwi', 'cherry']\n",
            "['Kiwi', 'cherry', 'Orange']\n"
          ]
        }
      ]
    },
    {
      "cell_type": "code",
      "source": [
        "f = [\"banana\",\"apple\",\"Kiwi\",\"cherry\",\"Orange\"]  \n",
        "if \"apple\" in f:  \n",
        "  print(\"Yes, 'apple' is in\")  \n",
        "else:\n",
        "  print(\"NO\")"
      ],
      "metadata": {
        "colab": {
          "base_uri": "https://localhost:8080/"
        },
        "id": "kDQMRTTJ7tFv",
        "outputId": "10d075ab-7b31-4281-e2c7-48ae819cb1c8"
      },
      "execution_count": 86,
      "outputs": [
        {
          "output_type": "stream",
          "name": "stdout",
          "text": [
            "Yes, 'apple' is in\n"
          ]
        }
      ]
    },
    {
      "cell_type": "markdown",
      "source": [
        "#### list <-> tuple"
      ],
      "metadata": {
        "id": "nOYvgR9C_wrP"
      }
    },
    {
      "cell_type": "code",
      "source": [
        "firm = ['Samsung','LG','SK']  \n",
        "tdata = tuple(firm)  \n",
        "print(firm)  \n",
        "print(tdata)"
      ],
      "metadata": {
        "colab": {
          "base_uri": "https://localhost:8080/"
        },
        "id": "6vxWL28C_3gS",
        "outputId": "39b2eb58-afc6-4059-b758-fcefa2e3d2c1"
      },
      "execution_count": 92,
      "outputs": [
        {
          "output_type": "stream",
          "name": "stdout",
          "text": [
            "['Samsung', 'LG', 'SK']\n",
            "('Samsung', 'LG', 'SK')\n"
          ]
        }
      ]
    },
    {
      "cell_type": "code",
      "source": [
        "# tuple에 추가  \n",
        "t = (\"banana\",\"apple\",\"Kiwi\",\"cherry\")  \n",
        "y = list(t)  \n",
        "y.append(\"Orange\")  \n",
        "t = tuple(y)  \n",
        "print(t)"
      ],
      "metadata": {
        "colab": {
          "base_uri": "https://localhost:8080/"
        },
        "id": "xwaDi1WSAc5A",
        "outputId": "a732dde6-53ab-4f7c-f675-2194e36942c9"
      },
      "execution_count": 95,
      "outputs": [
        {
          "output_type": "stream",
          "name": "stdout",
          "text": [
            "('banana', 'apple', 'Kiwi', 'cherry', 'Orange')\n"
          ]
        }
      ]
    },
    {
      "cell_type": "code",
      "source": [
        "t = (\"apple\",\"banana\",\"cherry\")  \n",
        "q = (\"kiwi\",)  \n",
        "t += q  \n",
        "print(t)"
      ],
      "metadata": {
        "colab": {
          "base_uri": "https://localhost:8080/"
        },
        "id": "9f35j3N_BBpX",
        "outputId": "3d19070b-e29b-4d74-b2fc-6ae553a2e634"
      },
      "execution_count": 96,
      "outputs": [
        {
          "output_type": "stream",
          "name": "stdout",
          "text": [
            "('apple', 'banana', 'cherry', 'kiwi')\n"
          ]
        }
      ]
    },
    {
      "cell_type": "code",
      "source": [
        "t = ('apple', 'banana', 'cherry', 'kiwi')  \n",
        "l = list(t)  \n",
        "l.remove(\"apple\")    \n",
        "t = tuple(l)  \n",
        "print(t)\n",
        "del t  \n",
        "# print(t)"
      ],
      "metadata": {
        "colab": {
          "base_uri": "https://localhost:8080/"
        },
        "id": "kJPiaNwPBfhf",
        "outputId": "5eb8a290-5394-4711-8e7d-ae3bc6872500"
      },
      "execution_count": 101,
      "outputs": [
        {
          "output_type": "stream",
          "name": "stdout",
          "text": [
            "('banana', 'cherry', 'kiwi')\n"
          ]
        }
      ]
    },
    {
      "cell_type": "code",
      "source": [
        "d = {\n",
        "    'a':1,  \n",
        "    'b':2,  \n",
        "    'c':3  \n",
        "}  \n",
        "print(d)  \n",
        "print(d.keys())  \n",
        "print(d.values())  \n",
        "print(d.items())"
      ],
      "metadata": {
        "colab": {
          "base_uri": "https://localhost:8080/"
        },
        "id": "2aoSvGKFEQRo",
        "outputId": "11025f6d-bea5-425d-9a13-68754d74cc59"
      },
      "execution_count": 102,
      "outputs": [
        {
          "output_type": "stream",
          "name": "stdout",
          "text": [
            "{'a': 1, 'b': 2, 'c': 3}\n",
            "dict_keys(['a', 'b', 'c'])\n",
            "dict_values([1, 2, 3])\n",
            "dict_items([('a', 1), ('b', 2), ('c', 3)])\n"
          ]
        }
      ]
    },
    {
      "cell_type": "code",
      "source": [
        "car = {\n",
        "    \"brand\" : \"BMW\",  \n",
        "    \"model\" : \"GT\",  \n",
        "    \"year\" : 1988  \n",
        "}  \n",
        "print(car)  \n",
        "print(len(car))  \n",
        "car[\"year\"] = 2000  \n",
        "car[\"item\"] = 123456  \n",
        "car.update({\"color\" : \"red\"})\n",
        "print(car)"
      ],
      "metadata": {
        "colab": {
          "base_uri": "https://localhost:8080/"
        },
        "id": "5_XK3j4WE0H3",
        "outputId": "bfe54329-b4ec-477f-cbaa-f2570683add0"
      },
      "execution_count": 107,
      "outputs": [
        {
          "output_type": "stream",
          "name": "stdout",
          "text": [
            "{'brand': 'BMW', 'model': 'GT', 'year': 1988}\n",
            "3\n",
            "{'brand': 'BMW', 'model': 'GT', 'year': 2000, 'item': 123456, 'color': 'red'}\n"
          ]
        }
      ]
    },
    {
      "cell_type": "code",
      "source": [
        "# 항목 제거\n",
        "car = {\n",
        "    \"brand\" : \"BMW\",  \n",
        "    \"model\" : \"GT\",  \n",
        "    \"year\" : 1988  \n",
        "}  \n",
        "car.pop(\"model\")  \n",
        "print(car)"
      ],
      "metadata": {
        "colab": {
          "base_uri": "https://localhost:8080/"
        },
        "id": "DFIR7iD0Gra1",
        "outputId": "c32792fe-406c-445b-95f3-0c4718e6ec90"
      },
      "execution_count": 108,
      "outputs": [
        {
          "output_type": "stream",
          "name": "stdout",
          "text": [
            "{'brand': 'BMW', 'year': 1988}\n"
          ]
        }
      ]
    },
    {
      "cell_type": "code",
      "source": [
        "car = {\n",
        "    \"brand\" : \"BMW\",  \n",
        "    \"model\" : \"GT\",  \n",
        "    \"year\" : 1988  \n",
        "}  \n",
        "car.popitem()  \n",
        "print(car)"
      ],
      "metadata": {
        "colab": {
          "base_uri": "https://localhost:8080/"
        },
        "id": "aGakSvtvG_Gb",
        "outputId": "bedbb212-fba2-4f88-b248-70df6e2565fc"
      },
      "execution_count": 109,
      "outputs": [
        {
          "output_type": "stream",
          "name": "stdout",
          "text": [
            "{'brand': 'BMW', 'model': 'GT'}\n"
          ]
        }
      ]
    },
    {
      "cell_type": "code",
      "source": [
        "car = {\n",
        "    \"brand\" : \"BMW\",  \n",
        "    \"model\" : \"GT\",  \n",
        "    \"year\" : 1988  \n",
        "}  \n",
        "car.clear() # 비움  \n",
        "del car # 삭제"
      ],
      "metadata": {
        "id": "a0qkjyXTHVX2"
      },
      "execution_count": null,
      "outputs": []
    },
    {
      "cell_type": "markdown",
      "source": [
        "#### LOOP"
      ],
      "metadata": {
        "id": "ZwbWAWyvHk6s"
      }
    },
    {
      "cell_type": "code",
      "source": [
        "car = {\n",
        "    \"brand\" : \"BMW\",  \n",
        "    \"model\" : \"GT\",  \n",
        "    \"year\" : 1988  \n",
        "}  \n",
        "# 값을 하나씩 인쇄  \n",
        "for x in car:  \n",
        "  print(car[x])"
      ],
      "metadata": {
        "colab": {
          "base_uri": "https://localhost:8080/"
        },
        "id": "R8Dc30seHomm",
        "outputId": "6d902372-6d8c-45ce-d7f2-e856e48639ab"
      },
      "execution_count": 110,
      "outputs": [
        {
          "output_type": "stream",
          "name": "stdout",
          "text": [
            "BMW\n",
            "GT\n",
            "1988\n"
          ]
        }
      ]
    },
    {
      "cell_type": "code",
      "source": [
        "car = {\n",
        "    \"brand\" : \"BMW\",  \n",
        "    \"model\" : \"GT\",  \n",
        "    \"year\" : 1988  \n",
        "}  \n",
        "for x in car.keys():  \n",
        "  print(x)"
      ],
      "metadata": {
        "colab": {
          "base_uri": "https://localhost:8080/"
        },
        "id": "njPyUCE_IcBR",
        "outputId": "e38c202e-2e9e-40c2-d3b9-772b2ee6ca6c"
      },
      "execution_count": 112,
      "outputs": [
        {
          "output_type": "stream",
          "name": "stdout",
          "text": [
            "brand\n",
            "model\n",
            "year\n"
          ]
        }
      ]
    },
    {
      "cell_type": "code",
      "source": [
        "car = {\n",
        "    \"brand\" : \"BMW\",  \n",
        "    \"model\" : \"GT\",  \n",
        "    \"year\" : 1988  \n",
        "}  \n",
        "for x in car.values():  \n",
        "  print(x)"
      ],
      "metadata": {
        "colab": {
          "base_uri": "https://localhost:8080/"
        },
        "id": "1gtUYAWAICYE",
        "outputId": "c8f77093-69e7-4cb7-e566-ef5969985fd7"
      },
      "execution_count": 111,
      "outputs": [
        {
          "output_type": "stream",
          "name": "stdout",
          "text": [
            "BMW\n",
            "GT\n",
            "1988\n"
          ]
        }
      ]
    },
    {
      "cell_type": "code",
      "source": [
        "car = {\n",
        "    \"brand\" : \"BMW\",  \n",
        "    \"model\" : \"GT\",  \n",
        "    \"year\" : 1988  \n",
        "}  \n",
        "for x,y in car.items():  \n",
        "  print(x,y)"
      ],
      "metadata": {
        "colab": {
          "base_uri": "https://localhost:8080/"
        },
        "id": "EVn5CKMvIld6",
        "outputId": "399cb01e-4d43-45b8-85d2-586f2af4888e"
      },
      "execution_count": 114,
      "outputs": [
        {
          "output_type": "stream",
          "name": "stdout",
          "text": [
            "brand BMW\n",
            "model GT\n",
            "year 1988\n"
          ]
        }
      ]
    },
    {
      "cell_type": "code",
      "source": [
        "car = {\n",
        "    \"brand\" : \"BMW\",  \n",
        "    \"model\" : \"GT\",  \n",
        "    \"year\" : 1988  \n",
        "}  \n",
        "myCar = car.copy()  \n",
        "print(myCar)"
      ],
      "metadata": {
        "colab": {
          "base_uri": "https://localhost:8080/"
        },
        "id": "NHUlrKLBI7Cu",
        "outputId": "59f23e96-aff8-4401-e55b-415f139205ba"
      },
      "execution_count": 115,
      "outputs": [
        {
          "output_type": "stream",
          "name": "stdout",
          "text": [
            "{'brand': 'BMW', 'model': 'GT', 'year': 1988}\n"
          ]
        }
      ]
    },
    {
      "cell_type": "code",
      "source": [
        "car = {\n",
        "    \"brand\" : \"BMW\",  \n",
        "    \"model\" : \"GT\",  \n",
        "    \"year\" : 1988  \n",
        "}  \n",
        "myCar = dict(car)  \n",
        "print(myCar)"
      ],
      "metadata": {
        "colab": {
          "base_uri": "https://localhost:8080/"
        },
        "id": "c6sXiSUYJIKE",
        "outputId": "cee9bc7b-af30-427b-fc3a-8a70651de1c3"
      },
      "execution_count": 117,
      "outputs": [
        {
          "output_type": "stream",
          "name": "stdout",
          "text": [
            "{'brand': 'BMW', 'model': 'GT', 'year': 1988}\n"
          ]
        }
      ]
    },
    {
      "cell_type": "code",
      "source": [
        "name1 = {\"name\":\"홍길동\",\"year\":2001}  \n",
        "name2 = {\"name\":\"갑돌이\",\"year\":2010}  \n",
        "name3 = {\"name\":\"갑순이\",\"year\":2010}  \n",
        "family = {  \n",
        "    \"name1\" :name1,  \n",
        "    \"name2\" :name2,  \n",
        "    \"name3\" :name3\n",
        "}  \n",
        "print(family)"
      ],
      "metadata": {
        "colab": {
          "base_uri": "https://localhost:8080/"
        },
        "id": "cNWJ5SVyJUxQ",
        "outputId": "c18e88f6-e426-46f5-b3e4-203f2fb75966"
      },
      "execution_count": 119,
      "outputs": [
        {
          "output_type": "stream",
          "name": "stdout",
          "text": [
            "{'name1': {'name': '홍길동', 'year': 2001}, 'name2': {'name': '갑돌이', 'year': 2010}, 'name3': {'name': '갑순이', 'year': 2010}}\n"
          ]
        }
      ]
    }
  ]
}